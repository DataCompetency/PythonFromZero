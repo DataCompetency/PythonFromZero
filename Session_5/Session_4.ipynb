{
 "cells": [
  {
   "cell_type": "markdown",
   "metadata": {},
   "source": [
    "# Python from Zero: The absolute Beginner's course\n",
    "\n",
    "## Session 4 / 4 - 31.08-01.09.2023 8:10 - 12:30\n",
    "<br>\n",
    "<font size=\"3\">\n",
    "    <i>by Fabian Wilde, Katharina Hoff, Matthis Ebel, Natalia Nenasheva & Mario Stanke<br></i><br>\n",
    "<b>Contacts:</b> nenashen66@uni-greifswald.de, matthis.ebel@uni-greifswald.de \n",
    "<br>\n",
    "</font>\n",
    "<br>"
   ]
  },
  {
   "cell_type": "markdown",
   "metadata": {
    "tags": []
   },
   "source": [
    "# Visualizing Data with Matplotlib\n",
    "<br>\n",
    "<font size=\"3\">\n",
    "    <b>One picture can say more than 1000 words:</b> Visualizing your data is probably the most important aspect in your daily work routine. <a href=\"https://matplotlib.org/\">Matplotlib</a> is the most common Python package for data visualization offering a multitude of different plot types and options to tailor the plots according to your needs. Even Latex can be used to obtain nice looking plot titles, axes labels and annotations.<br><br>\n",
    "    <a href=\"https://matplotlib.org/stable/gallery/index.html\">See a plot gallery here</a> of all the possibilities and functions matplotlib offers out-of-the-box.\n",
    "</font>\n",
    "\n",
    "### Example 1:"
   ]
  },
  {
   "cell_type": "markdown",
   "metadata": {},
   "source": [
    "<font size=\"3\">First you need to import the pyplot function from matplotlib using</font>"
   ]
  },
  {
   "cell_type": "code",
   "execution_count": null,
   "metadata": {},
   "outputs": [],
   "source": [
    "import matplotlib.pyplot as plt\n",
    "import numpy as np"
   ]
  },
  {
   "cell_type": "code",
   "execution_count": null,
   "metadata": {},
   "outputs": [],
   "source": [
    "x = np.linspace(0, 2*np.pi, 100)\n",
    "y = np.sin(x) \n",
    "y"
   ]
  },
  {
   "cell_type": "markdown",
   "metadata": {},
   "source": [
    "<font size=\"3\">Then we plot a simple sine:</font>"
   ]
  },
  {
   "cell_type": "code",
   "execution_count": null,
   "metadata": {
    "scrolled": true,
    "tags": []
   },
   "outputs": [],
   "source": [
    "# array [0, .01, .02, ..., 2*3.14]\n",
    "# one option is np.arange\n",
    "#x = np.arange(start = 0, stop = 2 * np.pi, step = 0.01) \n",
    "# another option is np.linspace\n",
    "x = np.linspace(0, 2*np.pi, 100)\n",
    "# applies sine elementwise\n",
    "y = np.sin(x) \n",
    "# data for the 2nd graph\n",
    "y2 = np.cos(x)\n",
    "\n",
    "\n",
    "\n",
    "# figure size and resolution in dpi (dots per inch)\n",
    "width_px = 640\n",
    "height_px = 480\n",
    "dpi = 100\n",
    "# create a figure\n",
    "fig = plt.figure(figsize=(width_px/dpi, height_px/dpi), dpi=dpi)\n",
    "# create a new plot\n",
    "ax = fig.add_subplot()\n",
    "# create the plot\n",
    "ax.plot(x, y, label=\"graph 1\")\n",
    "ax.plot(x, y2, color=\"red\", label=\"graph 2\")\n",
    "# adds a grid\n",
    "ax.grid(which=\"both\", color=\"gray\", linestyle=\":\")\n",
    "# semicolon suppresses output of last line in cell\n",
    "ax.set_title(\"Sine Wave\"); \n",
    "ax.set_xlabel(\"x\");\n",
    "ax.set_ylabel(\"y\");\n",
    "# adds a legend for the graphs in the plot\n",
    "ax.legend(loc=\"upper right\")\n",
    "plt.show()"
   ]
  },
  {
   "cell_type": "code",
   "execution_count": null,
   "metadata": {
    "tags": []
   },
   "outputs": [],
   "source": [
    "# array [0, .01, .02, ..., 2*3.14]\n",
    "# one option is np.arange\n",
    "#x = np.arange(start = 0, stop = 2 * np.pi, step = 0.01) \n",
    "# another option is np.linspace\n",
    "x = np.linspace(0, 2*np.pi, 20)\n",
    "# applies sine elementwise\n",
    "y = np.sin(x) \n",
    "# data for the 2nd graph\n",
    "y2 = np.cos(x)\n",
    "\n",
    "# figure size and resolution in dpi (dots per inch)\n",
    "width_px = 640\n",
    "height_px = 480\n",
    "dpi = 100\n",
    "# create a figure\n",
    "fig = plt.figure(figsize=(width_px/dpi, height_px/dpi), dpi=dpi)\n",
    "# create a new plot\n",
    "ax = fig.add_subplot()\n",
    "# create the plot\n",
    "ax.scatter(x, y, label=\"graph 1\")\n",
    "ax.scatter(x, y2, color=\"red\", label=\"graph 2\")\n",
    "# adds a grid\n",
    "ax.grid(which=\"both\", color=\"gray\", linestyle=\":\")\n",
    "# semicolon suppresses output of last line in cell\n",
    "ax.set_title(\"Sine Wave\"); \n",
    "ax.set_xlabel(\"x\");\n",
    "ax.set_ylabel(\"y\");\n",
    "# adds a legend for the graphs in the plot\n",
    "ax.legend(loc=\"upper right\")\n",
    "plt.show()"
   ]
  },
  {
   "cell_type": "code",
   "execution_count": null,
   "metadata": {},
   "outputs": [],
   "source": [
    "# generates an array with normal distributed random values\n",
    "N = int(1E4)\n",
    "x = np.random.normal(0, 1, (N,))\n",
    "# applies sine elementwise\n",
    "y = np.random.normal(0, 1, (N,))\n",
    "\n",
    "# figure size and resolution in dpi (dots per inch)\n",
    "width_px = 640\n",
    "height_px = 480\n",
    "dpi = 100\n",
    "# create a figure\n",
    "fig = plt.figure(figsize=(width_px/dpi, height_px/dpi), dpi=dpi)\n",
    "# create a new plot\n",
    "ax = fig.add_subplot()\n",
    "# create the plot\n",
    "ax.scatter(x, y, label=\"graph 1\", s=1, color=\"black\", marker=\".\")\n",
    "# adds a grid\n",
    "ax.grid(which=\"both\", color=\"gray\", linestyle=\":\")\n",
    "# semicolon suppresses output of last line in cell\n",
    "ax.set_title(\"Random values\"); \n",
    "ax.set_xlabel(\"x\");\n",
    "ax.set_ylabel(\"y\");\n",
    "# adds a legend for the graphs in the plot\n",
    "ax.legend(loc=\"upper right\")\n",
    "plt.show()"
   ]
  },
  {
   "cell_type": "markdown",
   "metadata": {},
   "source": [
    "### Example 2:"
   ]
  },
  {
   "cell_type": "code",
   "execution_count": null,
   "metadata": {},
   "outputs": [],
   "source": [
    "Img = np.random.randint(low=0, high=255, size=(100, 100, 3), dtype='B') # B: unsigned byte (0..255)\n",
    "#print(Img) # Img is a three-dim array\n",
    "plt.imshow(Img, interpolation=\"none\"); # third dimension interpreted as red, green, blue\n",
    "# image coordinates are numbered as in matrices, first rows (top to bottom) then columns (left to right)"
   ]
  },
  {
   "cell_type": "markdown",
   "metadata": {
    "tags": []
   },
   "source": [
    "### More complex Example 3:\n",
    "\n",
    "<br>\n",
    "<font size=\"3\">\n",
    "A more complex example demonstrating almost all capabilities to customize your plot:\n",
    "</font>"
   ]
  },
  {
   "cell_type": "code",
   "execution_count": null,
   "metadata": {},
   "outputs": [],
   "source": [
    "# a very simple example to begin with\n",
    "import numpy as np\n",
    "from matplotlib import pyplot as plt\n",
    "\n",
    "# generate the data to plot\n",
    "omega = 1\n",
    "# yields a numpy array of N equidistant points on the given interval\n",
    "x = np.linspace(-2*np.pi, 2*np.pi, 100)\n",
    "y = np.sin(x)\n",
    "\n",
    "# here you can set the size and resolution of the plot\n",
    "#resolution in dpi = dots per inch\n",
    "# for the screen 75 to 120 dpi isfine\n",
    "# for a publication you'd need to use a higher resolution of 150 or 300 dpi\n",
    "dpi = 150\n",
    "# height in inch\n",
    "height = 3 \n",
    "# width in inch\n",
    "width = 4\n",
    "\n",
    "# initalize the new figure\n",
    "fig = plt.figure(figsize=(width, height), dpi=dpi)\n",
    "\n",
    "# Here you could specify multiple plots aside or in a matrix configurationn\n",
    "# we just want one plot in the figure, \n",
    "# thats why we set 111 = number of rows, number of columns, total num of plots\n",
    "ax = fig.add_subplot(111)\n",
    "\n",
    "# create the plot itself (a line plot connecting the points)\n",
    "# plot the sine\n",
    "ax.plot(x, y, color = \"r\", linestyle = \"--\", linewidth = 2, label = \"sine\")\n",
    "# plot a constant line at zero\n",
    "ax.plot(x, np.zeros(x.shape), color = \"black\", linestyle = \"-\", linewidth = 2, label = \"line\")\n",
    "# plot a graph\n",
    "ax.plot(x, x, color = \"blue\", linestyle = \":\", linewidth = 1, label = \"graph\")\n",
    "\n",
    "# use a grid in the background\n",
    "ax.grid(which=\"both\", color=\"gray\", linestyle=\"-.\", linewidth=0.5)\n",
    "\n",
    "# set the plot title using Latex\n",
    "# the semicolon at the end of the line is to suppress the output of the function\n",
    "# (one of the rare cases where you'd end a line of Python code with a semicolon)\n",
    "ax.set_title(\"A first plot of \" + r'$y = \\sin\\left(2 \\pi \\omega t\\right)$');\n",
    "\n",
    "# set the axes labels\n",
    "ax.set_xlabel(\"x\");\n",
    "ax.set_ylabel(r'$\\sum_{i=1}^{N} \\frac{1}{i} \\psi$');\n",
    "\n",
    "# normal string definition in Python uses \"string\"\n",
    "# in order to use Latex in title or axes label, use r'string'\n",
    "# Why is that?\n",
    "# If double quotation marks are used, the string is \"processed\" and the so-called escape sequences (e.g. \\n for a linebreak are replaced)\n",
    "# If single quotation marks like r'string' are used, the string is stored as it is.\n",
    "\n",
    "# use the plot legend\n",
    "# only works if keyword argument 'label' was given to the method plot\n",
    "ax.legend()\n",
    "\n",
    "# save the plot in a file\n",
    "# the file ending determines the format\n",
    "# valied formats are e.g. jpg, png for raster graphics (will become pixelated if you zoom in and the resolution is too small)\n",
    "# you can also export the plot as vector graphics with ending .eps (will be rendered at every zoom level)\n",
    "fig.savefig(\"plot.png\")"
   ]
  },
  {
   "cell_type": "markdown",
   "metadata": {},
   "source": [
    "### More complex Example 4:\n",
    "\n",
    "<br>\n",
    "<font size=\"3\">A histogram plot as more complex example for a plot:</font>"
   ]
  },
  {
   "cell_type": "code",
   "execution_count": null,
   "metadata": {
    "scrolled": true
   },
   "outputs": [],
   "source": [
    "# a very simple example to begin with\n",
    "import numpy as np\n",
    "from matplotlib import pyplot as plt\n",
    "\n",
    "# generate data to work with\n",
    "num_values = 1E6\n",
    "x = np.random.normal(0,1,int(num_values))\n",
    "\n",
    "# here you can set the size and resolution of the plot\n",
    "#resolution in dpi = dots per inch\n",
    "# for the screen 75 to 120 dpi isfine\n",
    "# for a publication you'd need to use a higher resolution of 150 or 300 dpi\n",
    "dpi = 150\n",
    "# height in inch\n",
    "height = 3 \n",
    "# width in inch\n",
    "width = 4\n",
    "\n",
    "# initalize the new figure\n",
    "fig = plt.figure(figsize=(width, height), dpi=dpi)\n",
    "\n",
    "# Here you could specify multiple plots aside or in a matrix configurationn\n",
    "# we just want one plot in the figure, \n",
    "# thats why we set 111 = number of rows, number of columns, total num of plots\n",
    "ax = fig.add_subplot(111)\n",
    "\n",
    "# plots a histogram, use parameter density to normalize the vertical axis\n",
    "h=ax.hist(x, bins=100, color=\"black\", density=True)\n",
    "ax.set_ylabel(\"count\");\n",
    "ax.set_xlabel(\"x\");\n",
    "ax.set_title(\"A simple histogram\")\n",
    "ax.grid(which=\"both\",color=\"gray\",linewidth=0.5,linestyle=\"--\")\n",
    "plt.show()"
   ]
  },
  {
   "cell_type": "markdown",
   "metadata": {},
   "source": [
    "<font size=\"3\">For further options to customize plots, have also a look at the predefined <a href=\"https://matplotlib.org/3.1.0/gallery/color/named_colors.html\">color</a> and <a href=\"https://matplotlib.org/3.3.1/api/_as_gen/matplotlib.lines.Line2D.html#matplotlib.lines.Line2D.lineStyles\">linestyle</a> or <a href=\"https://matplotlib.org/3.3.1/api/_as_gen/matplotlib.lines.Line2D.html#matplotlib.lines.Line2D.lineStyles\">here</a> keywords on the matplotlib website.</b>\n",
    "</font>"
   ]
  },
  {
   "cell_type": "markdown",
   "metadata": {},
   "source": [
    "<font size=\"3\">\n",
    "<div class=\"alert alert-warning\"><b>Exercise 6.1:</b> Create a plot for the function f(x) = 3x + 2 in the interval [-2, 3] in <b>black</b>. Also plot a horizontal, <b>red</b>, <b>dashed</b> line in the same graph at y = 1.\n",
    "<br><br>\n",
    "<b>Hint:</b> Use np.arange or <a href=\"https://numpy.org/doc/stable/reference/generated/numpy.linspace.html\">np.linspace</a> to create an array with x values. Use the style keywords color and linestyle to change the appearance of the graphs. Use <a href=\"https://numpy.org/doc/stable/reference/generated/numpy.full.html\">np.full</a> to create an array filled with a given value.\n",
    "</div>\n",
    "</font>\n",
    "\n",
    "Your figure should look something like this:  \n",
    "![](img/ex6.png)"
   ]
  },
  {
   "cell_type": "markdown",
   "metadata": {},
   "source": [
    "### Try it yourself:"
   ]
  },
  {
   "cell_type": "code",
   "execution_count": null,
   "metadata": {},
   "outputs": [],
   "source": []
  },
  {
   "cell_type": "markdown",
   "metadata": {},
   "source": [
    "---\n",
    "\n",
    "# The library Pandas\n",
    "\n",
    "<br>\n",
    "<font size=\"3\">\n",
    "Neither NumPy arrays, nor any of the native Python data structures (e.g. lists, dicts, ...) are suitable to handle the data that is typically generated in scientific experiments or by surveys. These are typically tables where one column contains one data type, but different columns may have different data types. The solution in Python is to use Pandas (https://pandas.pydata.org/). Pandas is also most popular for time series data.\n",
    "<br><br>\n",
    "If we want to use Pandas, we have to import it:\n",
    "</font>"
   ]
  },
  {
   "cell_type": "code",
   "execution_count": null,
   "metadata": {},
   "outputs": [],
   "source": [
    "import pandas as pd"
   ]
  },
  {
   "cell_type": "markdown",
   "metadata": {},
   "source": [
    "<font size=\"3\">\n",
    "With Pandas, we can easily import a csv file that had previously been exported from LibreOffice Calc (or similar Office software):\n",
    "</font>"
   ]
  },
  {
   "cell_type": "code",
   "execution_count": null,
   "metadata": {},
   "outputs": [],
   "source": [
    "# have a look at the raw file content\n",
    "with open(\"data/melon.csv\", \"rt\") as file_handle:\n",
    "    lines = file_handle.readlines()\n",
    "    \n",
    "lines[:10]"
   ]
  },
  {
   "cell_type": "code",
   "execution_count": null,
   "metadata": {},
   "outputs": [],
   "source": [
    "# load the file with pandas\n",
    "melon = pd.read_csv('data/melon.csv', sep='\\t')\n",
    "melon"
   ]
  },
  {
   "cell_type": "markdown",
   "metadata": {},
   "source": [
    "<font size=\"3\">We can play with accessing parts of the melon data set:</font>"
   ]
  },
  {
   "cell_type": "code",
   "execution_count": null,
   "metadata": {},
   "outputs": [],
   "source": [
    "#print(\"access lines 1 and 2, all columns:\")\n",
    "# line index is 0-based\n",
    "print(melon.iloc[1:3, 0])"
   ]
  },
  {
   "cell_type": "code",
   "execution_count": null,
   "metadata": {},
   "outputs": [],
   "source": [
    "print(\"access a particular single value as scalar:\")\n",
    "print(melon.iloc[1,1])"
   ]
  },
  {
   "cell_type": "code",
   "execution_count": null,
   "metadata": {},
   "outputs": [],
   "source": [
    "print(\"access a column by name (only first couple of lines):\")\n",
    "print(melon[\"yield\"].head(10))"
   ]
  },
  {
   "cell_type": "code",
   "execution_count": null,
   "metadata": {},
   "outputs": [],
   "source": [
    "print(melon.head())"
   ]
  },
  {
   "cell_type": "code",
   "execution_count": null,
   "metadata": {},
   "outputs": [],
   "source": [
    "# like in Numpy we can also use comparisons in Pandas when elements are addressed\n",
    "print(\"find parts of dataframe where yield >37:\")\n",
    "print(melon[ melon['yield'] > 37 ])"
   ]
  },
  {
   "cell_type": "code",
   "execution_count": null,
   "metadata": {},
   "outputs": [],
   "source": [
    "print(\"find parts of dataframe where variety is D:\")\n",
    "print(melon[melon['variety'] == 'D'])"
   ]
  },
  {
   "cell_type": "code",
   "execution_count": null,
   "metadata": {},
   "outputs": [],
   "source": [
    "print(melon[melon[\"variety\"] == \"C\"])"
   ]
  },
  {
   "cell_type": "code",
   "execution_count": null,
   "metadata": {},
   "outputs": [],
   "source": [
    "print(melon.count())"
   ]
  },
  {
   "cell_type": "code",
   "execution_count": null,
   "metadata": {},
   "outputs": [],
   "source": [
    "# count the number of occurrences of this variety\n",
    "print(melon[melon[\"variety\"] == \"C\"][\"yield\"])"
   ]
  },
  {
   "cell_type": "code",
   "execution_count": null,
   "metadata": {},
   "outputs": [],
   "source": [
    "melon[\"yield\"].mean()"
   ]
  },
  {
   "cell_type": "code",
   "execution_count": null,
   "metadata": {},
   "outputs": [],
   "source": [
    "# group-by functionality facilitates analyses\n",
    "print(melon.groupby(\"variety\").mean())"
   ]
  },
  {
   "cell_type": "markdown",
   "metadata": {},
   "source": [
    "<font size=\"3\">Table-like data in Pandas is stored in DataFrame objects, as we can see, when we check the datatype of our melon dataset:</font>"
   ]
  },
  {
   "cell_type": "code",
   "execution_count": null,
   "metadata": {},
   "outputs": [],
   "source": [
    "print(type(melon))"
   ]
  },
  {
   "cell_type": "markdown",
   "metadata": {},
   "source": [
    "<font size=\"3\">A DataFrame can also be created manually from one or more lists or numpy arrays:</font>"
   ]
  },
  {
   "cell_type": "code",
   "execution_count": null,
   "metadata": {
    "scrolled": true
   },
   "outputs": [],
   "source": [
    "# You can define a name for each column with the parameter columns\n",
    "# The special thing about Pandas is now that one column can also be defined as index or can\n",
    "# be explicitly defined. Indexation is a key feature of big databases to speed-up queries.\n",
    "df = pd.DataFrame([123,23,54,15,89], columns=[\"numbers\"], index=[\"a\",\"b\",\"c\",\"d\",\"e\"])\n",
    "df"
   ]
  },
  {
   "cell_type": "markdown",
   "metadata": {},
   "source": [
    "<font size=\"3\">A Pandas DataFrame object also has useful attributes like index and columns:</font>"
   ]
  },
  {
   "cell_type": "code",
   "execution_count": null,
   "metadata": {},
   "outputs": [],
   "source": [
    "print(df.index)\n",
    "print(df.columns)\n",
    "print(df.dtypes)"
   ]
  },
  {
   "cell_type": "markdown",
   "metadata": {},
   "source": [
    "<font size=\"3\">Once defined, a DataFrame can be enlarged as well by other columns even if the columns contain a different data type:</font>"
   ]
  },
  {
   "cell_type": "code",
   "execution_count": null,
   "metadata": {
    "scrolled": true
   },
   "outputs": [],
   "source": [
    "df['floats'] = [1.23, 5.67, 4.31, 6.89, 5.34]\n",
    "df['names'] = ['Marco', 'Alex', 'John', 'Michael', 'Alistair']\n",
    "df"
   ]
  },
  {
   "cell_type": "code",
   "execution_count": null,
   "metadata": {},
   "outputs": [],
   "source": [
    "print(df.dtypes)"
   ]
  },
  {
   "cell_type": "markdown",
   "metadata": {},
   "source": [
    "<font size=\"3\">Or we simply add a new row with data providing a new DataFrame, but once an index has been defined, we need to make sure to provide then index values as well:</font>"
   ]
  },
  {
   "cell_type": "code",
   "execution_count": null,
   "metadata": {},
   "outputs": [],
   "source": [
    "df.append(pd.DataFrame({'numbers': 273, 'floats': 8.98, 'names': \"Florian\"}, index=['f']))"
   ]
  },
  {
   "cell_type": "markdown",
   "metadata": {},
   "source": [
    "---\n",
    "\n",
    "### Pandas Quiz Example Solution"
   ]
  },
  {
   "cell_type": "code",
   "execution_count": 66,
   "metadata": {},
   "outputs": [
    {
     "data": {
      "text/html": [
       "<div>\n",
       "<style scoped>\n",
       "    .dataframe tbody tr th:only-of-type {\n",
       "        vertical-align: middle;\n",
       "    }\n",
       "\n",
       "    .dataframe tbody tr th {\n",
       "        vertical-align: top;\n",
       "    }\n",
       "\n",
       "    .dataframe thead th {\n",
       "        text-align: right;\n",
       "    }\n",
       "</style>\n",
       "<table border=\"1\" class=\"dataframe\">\n",
       "  <thead>\n",
       "    <tr style=\"text-align: right;\">\n",
       "      <th></th>\n",
       "      <th>ID</th>\n",
       "      <th>RI</th>\n",
       "      <th>Na</th>\n",
       "      <th>Mg</th>\n",
       "      <th>Al</th>\n",
       "      <th>Si</th>\n",
       "      <th>K</th>\n",
       "      <th>Ca</th>\n",
       "      <th>Ba</th>\n",
       "      <th>Fe</th>\n",
       "      <th>Type</th>\n",
       "    </tr>\n",
       "  </thead>\n",
       "  <tbody>\n",
       "    <tr>\n",
       "      <th>0</th>\n",
       "      <td>1</td>\n",
       "      <td>1.52101</td>\n",
       "      <td>13.64</td>\n",
       "      <td>4.49</td>\n",
       "      <td>1.10</td>\n",
       "      <td>71.78</td>\n",
       "      <td>0.06</td>\n",
       "      <td>8.75</td>\n",
       "      <td>0.00</td>\n",
       "      <td>0.0</td>\n",
       "      <td>1</td>\n",
       "    </tr>\n",
       "    <tr>\n",
       "      <th>1</th>\n",
       "      <td>2</td>\n",
       "      <td>1.51761</td>\n",
       "      <td>13.89</td>\n",
       "      <td>3.60</td>\n",
       "      <td>1.36</td>\n",
       "      <td>72.73</td>\n",
       "      <td>0.48</td>\n",
       "      <td>7.83</td>\n",
       "      <td>0.00</td>\n",
       "      <td>0.0</td>\n",
       "      <td>1</td>\n",
       "    </tr>\n",
       "    <tr>\n",
       "      <th>2</th>\n",
       "      <td>3</td>\n",
       "      <td>1.51618</td>\n",
       "      <td>13.53</td>\n",
       "      <td>3.55</td>\n",
       "      <td>1.54</td>\n",
       "      <td>72.99</td>\n",
       "      <td>0.39</td>\n",
       "      <td>7.78</td>\n",
       "      <td>0.00</td>\n",
       "      <td>0.0</td>\n",
       "      <td>1</td>\n",
       "    </tr>\n",
       "    <tr>\n",
       "      <th>3</th>\n",
       "      <td>4</td>\n",
       "      <td>1.51766</td>\n",
       "      <td>13.21</td>\n",
       "      <td>3.69</td>\n",
       "      <td>1.29</td>\n",
       "      <td>72.61</td>\n",
       "      <td>0.57</td>\n",
       "      <td>8.22</td>\n",
       "      <td>0.00</td>\n",
       "      <td>0.0</td>\n",
       "      <td>1</td>\n",
       "    </tr>\n",
       "    <tr>\n",
       "      <th>4</th>\n",
       "      <td>5</td>\n",
       "      <td>1.51742</td>\n",
       "      <td>13.27</td>\n",
       "      <td>3.62</td>\n",
       "      <td>1.24</td>\n",
       "      <td>73.08</td>\n",
       "      <td>0.55</td>\n",
       "      <td>8.07</td>\n",
       "      <td>0.00</td>\n",
       "      <td>0.0</td>\n",
       "      <td>1</td>\n",
       "    </tr>\n",
       "    <tr>\n",
       "      <th>...</th>\n",
       "      <td>...</td>\n",
       "      <td>...</td>\n",
       "      <td>...</td>\n",
       "      <td>...</td>\n",
       "      <td>...</td>\n",
       "      <td>...</td>\n",
       "      <td>...</td>\n",
       "      <td>...</td>\n",
       "      <td>...</td>\n",
       "      <td>...</td>\n",
       "      <td>...</td>\n",
       "    </tr>\n",
       "    <tr>\n",
       "      <th>209</th>\n",
       "      <td>210</td>\n",
       "      <td>1.51623</td>\n",
       "      <td>14.14</td>\n",
       "      <td>0.00</td>\n",
       "      <td>2.88</td>\n",
       "      <td>72.61</td>\n",
       "      <td>0.08</td>\n",
       "      <td>9.18</td>\n",
       "      <td>1.06</td>\n",
       "      <td>0.0</td>\n",
       "      <td>7</td>\n",
       "    </tr>\n",
       "    <tr>\n",
       "      <th>210</th>\n",
       "      <td>211</td>\n",
       "      <td>1.51685</td>\n",
       "      <td>14.92</td>\n",
       "      <td>0.00</td>\n",
       "      <td>1.99</td>\n",
       "      <td>73.06</td>\n",
       "      <td>0.00</td>\n",
       "      <td>8.40</td>\n",
       "      <td>1.59</td>\n",
       "      <td>0.0</td>\n",
       "      <td>7</td>\n",
       "    </tr>\n",
       "    <tr>\n",
       "      <th>211</th>\n",
       "      <td>212</td>\n",
       "      <td>1.52065</td>\n",
       "      <td>14.36</td>\n",
       "      <td>0.00</td>\n",
       "      <td>2.02</td>\n",
       "      <td>73.42</td>\n",
       "      <td>0.00</td>\n",
       "      <td>8.44</td>\n",
       "      <td>1.64</td>\n",
       "      <td>0.0</td>\n",
       "      <td>7</td>\n",
       "    </tr>\n",
       "    <tr>\n",
       "      <th>212</th>\n",
       "      <td>213</td>\n",
       "      <td>1.51651</td>\n",
       "      <td>14.38</td>\n",
       "      <td>0.00</td>\n",
       "      <td>1.94</td>\n",
       "      <td>73.61</td>\n",
       "      <td>0.00</td>\n",
       "      <td>8.48</td>\n",
       "      <td>1.57</td>\n",
       "      <td>0.0</td>\n",
       "      <td>7</td>\n",
       "    </tr>\n",
       "    <tr>\n",
       "      <th>213</th>\n",
       "      <td>214</td>\n",
       "      <td>1.51711</td>\n",
       "      <td>14.23</td>\n",
       "      <td>0.00</td>\n",
       "      <td>2.08</td>\n",
       "      <td>73.36</td>\n",
       "      <td>0.00</td>\n",
       "      <td>8.62</td>\n",
       "      <td>1.67</td>\n",
       "      <td>0.0</td>\n",
       "      <td>7</td>\n",
       "    </tr>\n",
       "  </tbody>\n",
       "</table>\n",
       "<p>214 rows × 11 columns</p>\n",
       "</div>"
      ],
      "text/plain": [
       "      ID       RI     Na    Mg    Al     Si     K    Ca    Ba   Fe  Type\n",
       "0      1  1.52101  13.64  4.49  1.10  71.78  0.06  8.75  0.00  0.0     1\n",
       "1      2  1.51761  13.89  3.60  1.36  72.73  0.48  7.83  0.00  0.0     1\n",
       "2      3  1.51618  13.53  3.55  1.54  72.99  0.39  7.78  0.00  0.0     1\n",
       "3      4  1.51766  13.21  3.69  1.29  72.61  0.57  8.22  0.00  0.0     1\n",
       "4      5  1.51742  13.27  3.62  1.24  73.08  0.55  8.07  0.00  0.0     1\n",
       "..   ...      ...    ...   ...   ...    ...   ...   ...   ...  ...   ...\n",
       "209  210  1.51623  14.14  0.00  2.88  72.61  0.08  9.18  1.06  0.0     7\n",
       "210  211  1.51685  14.92  0.00  1.99  73.06  0.00  8.40  1.59  0.0     7\n",
       "211  212  1.52065  14.36  0.00  2.02  73.42  0.00  8.44  1.64  0.0     7\n",
       "212  213  1.51651  14.38  0.00  1.94  73.61  0.00  8.48  1.57  0.0     7\n",
       "213  214  1.51711  14.23  0.00  2.08  73.36  0.00  8.62  1.67  0.0     7\n",
       "\n",
       "[214 rows x 11 columns]"
      ]
     },
     "execution_count": 66,
     "metadata": {},
     "output_type": "execute_result"
    }
   ],
   "source": [
    "import pandas as pd\n",
    "\n",
    "df = pd.read_csv(\"data/glass.csv\")\n",
    "df"
   ]
  },
  {
   "cell_type": "code",
   "execution_count": 11,
   "metadata": {},
   "outputs": [
    {
     "data": {
      "text/plain": [
       "8.95696261682243"
      ]
     },
     "execution_count": 11,
     "metadata": {},
     "output_type": "execute_result"
    }
   ],
   "source": [
    "# mean Ca value\n",
    "df[\"Ca\"].mean()"
   ]
  },
  {
   "cell_type": "code",
   "execution_count": 67,
   "metadata": {},
   "outputs": [
    {
     "data": {
      "text/plain": [
       "ID      29\n",
       "RI      29\n",
       "Na      29\n",
       "Mg      29\n",
       "Al      29\n",
       "Si      29\n",
       "K       29\n",
       "Ca      29\n",
       "Ba      29\n",
       "Fe      29\n",
       "Type    29\n",
       "dtype: int64"
      ]
     },
     "execution_count": 67,
     "metadata": {},
     "output_type": "execute_result"
    }
   ],
   "source": [
    "# Number of rows of Type 7\n",
    "df[ df[\"Type\"] == 7 ].count()"
   ]
  },
  {
   "cell_type": "code",
   "execution_count": 13,
   "metadata": {
    "tags": []
   },
   "outputs": [
    {
     "data": {
      "text/plain": [
       "74.45"
      ]
     },
     "execution_count": 13,
     "metadata": {},
     "output_type": "execute_result"
    }
   ],
   "source": [
    "# max Si value for Type 2\n",
    "df[ df[\"Type\"] == 2 ][\"Si\"].max()"
   ]
  },
  {
   "cell_type": "markdown",
   "metadata": {},
   "source": [
    "<font size=\"3\"><div class=\"alert alert-warning\"><b>Exercise 6.2:</b> \n",
    "Use Pandas to load and analyze the data set bike.csv:<br>\n",
    "        1. Load data/bike.csv as a DataFrame with pandas and call it bike_data.<br>\n",
    "        2. Summarize/Describe each columns of your data set with key statistical values (mean, std, min, max, number of rows).<br>\n",
    "        3. Visualize the columns temp (x axis) and count (y axis) as a scatter plot with matplotlib.<br>\n",
    "        4. Load the second part of the data set (data/bike2.csv) and add the column date to your Data Frame bike_data.<br>\n",
    "        5. Select all rows with the date '2011-01-20' as a subset from bike_data and store them in a separate DataFrame bike_subset.<br>\n",
    "        6. Change your plot so that all data points of bike_subset are red and all other data points are blue.\n",
    "</div>\n",
    "    \n",
    "<b>Try to run it yourself here:</b></font>"
   ]
  },
  {
   "cell_type": "code",
   "execution_count": null,
   "metadata": {},
   "outputs": [],
   "source": []
  },
  {
   "cell_type": "markdown",
   "metadata": {},
   "source": [
    "---"
   ]
  },
  {
   "cell_type": "markdown",
   "metadata": {
    "tags": []
   },
   "source": [
    "<font size=\"3\">The index of a Pandas DataFrame can also be a timestamp which is useful for time series data. Pandas also has some useful built-in plotting functionality. As example, we load the dataset of the DAX share price index and plot it using Pandas:</font>"
   ]
  },
  {
   "cell_type": "markdown",
   "metadata": {
    "tags": []
   },
   "source": [
    "<font size=\"3\">We need to install a new package first:</font>"
   ]
  },
  {
   "cell_type": "code",
   "execution_count": null,
   "metadata": {
    "tags": []
   },
   "outputs": [],
   "source": [
    "! pip install pandas-datareader"
   ]
  },
  {
   "cell_type": "markdown",
   "metadata": {
    "tags": []
   },
   "source": [
    "<font size=\"3\">Then we need to import the new module and download the data:</font>"
   ]
  },
  {
   "cell_type": "code",
   "execution_count": null,
   "metadata": {
    "tags": []
   },
   "outputs": [],
   "source": [
    "# imports a function to download price data from the web\n",
    "from pandas_datareader import DataReader\n",
    "dax = DataReader(name='^GDAXI', data_source=\"yahoo\", start='2000-1-1')\n",
    "# only returns the first N rows of the data table\n",
    "dax.head()"
   ]
  },
  {
   "cell_type": "code",
   "execution_count": null,
   "metadata": {
    "tags": []
   },
   "outputs": [],
   "source": [
    "# gives the total number of values in the table\n",
    "print(dax.size)\n",
    "# gives the number of rows x columns in the table\n",
    "print(dax.shape)\n",
    "# gives a complete summary of the table (size, data types)\n",
    "print(dax.info)"
   ]
  },
  {
   "cell_type": "markdown",
   "metadata": {
    "tags": []
   },
   "source": [
    "<font size=\"3\">We can directly plot now out of Pandas:</font>"
   ]
  },
  {
   "cell_type": "code",
   "execution_count": null,
   "metadata": {
    "tags": []
   },
   "outputs": [],
   "source": [
    "dax[\"Close\"].plot(figsize=(8,5))"
   ]
  },
  {
   "cell_type": "markdown",
   "metadata": {},
   "source": [
    "---\n",
    "\n",
    "## Running your code from the command-line\n",
    "<br>\n",
    "<font size=\"3\">\n",
    "    <b>In this case, we assume that you're using Linux.</b> If you'd like to run your Python script on the command-line (which is Bash under Linux in the default case), you need to save your script first and then run it with<br><br>\n",
    "<font face=\"Courier\"><b>python <i>your_script.py</i></b></font><br><br>\n",
    "or<br><br>\n",
    "<font face=\"Courier\"><b>python3 <i>your_script.py</i></b></font><br><br>\n",
    "In case you have both, Python 2.x and Python 3.x installed on your system, make sure, you're running the right interpreter using<br><br>\n",
    "<font face=\"Courier\"><b>which python</b></font><br><br>\n",
    "which gives you the path to which the command is referring to.<br><br>\n",
    "Of course, you can also directly run your Python script on the command-line treating is it as a Bash script (a script file for the command-line), but putting e.g.<br><br>\n",
    "<font face=\"Courier\"><b>#!/usr/bin/python3</b></font><br><br>\n",
    "as first line in your Python script to tell Bash which interpreter to use for the following file content.<br><br>\n",
    "    Then, you need to make your newly created file <b>executable</b> by adding the flag <b>executable</b> e.g. with the command<br><br>\n",
    "    <font face=\"Courier\"><b>chmod u+x your_script.py</b></font><br><br>\n",
    "You can check the file permission flags in the listing of your directory using<br><br>\n",
    "    <font face=\"Courier\"><b>ls -la scripts/</b></font><br><br>\n",
    "Then you should be able to simply run your Python script as if it would be a Bash script using<br><br>\n",
    "<font face=\"Courier\"><b>./your_script.py</b></font><br><br>                                                                                               \n",
    "</font>\n",
    "\n",
    "<font size=\"3\">\n",
    "In the following examples, a special \"cell magic\" syntax is used, so that bash scripts and commands can be run within a Jupyter notebook cell.\n",
    "</font>\n",
    "\n",
    "### Examples:"
   ]
  },
  {
   "cell_type": "code",
   "execution_count": null,
   "metadata": {
    "tags": []
   },
   "outputs": [],
   "source": [
    "! which python3\n",
    "! python3 scripts/hello_world.py"
   ]
  },
  {
   "cell_type": "markdown",
   "metadata": {},
   "source": [
    "<font size=\"3\">\n",
    "Or directly run your python script as it would be a bash script or native executable\n",
    "</font>"
   ]
  },
  {
   "cell_type": "code",
   "execution_count": null,
   "metadata": {},
   "outputs": [],
   "source": [
    "! ls -la scripts/\n",
    "! chmod u+x scripts/hello_world2.py\n",
    "! ./scripts/hello_world2.py"
   ]
  },
  {
   "cell_type": "markdown",
   "metadata": {},
   "source": [
    "<font size=\"3\">\n",
    "We check what <i>hello_world2.py</i> contained by printing its file content with the command <i>cat</i>:\n",
    "</font>"
   ]
  },
  {
   "cell_type": "code",
   "execution_count": null,
   "metadata": {},
   "outputs": [],
   "source": [
    "! cat scripts/hello_world2.py"
   ]
  },
  {
   "cell_type": "markdown",
   "metadata": {},
   "source": [
    "## Handling of command-line arguments \n",
    "<br>\n",
    "<font size=\"3\">\n",
    "Very often, it's the case that you'd like to run your Python script, but with slightly different parameters or paths with files to work on. It would be annoying to make the required changes every time in your Python code.<br><br>\n",
    "Luckily, you can easily handle given command-line arguments in Python and work with them in your script. <b>The most basic option is to use the builtin library <i>sys</i> and the provided list <i>argv</i>. If any command-line argument was given to run your Python script, it will appear in <i>argv</i>.\n",
    "</font>\n",
    "\n",
    "### Examples:"
   ]
  },
  {
   "cell_type": "markdown",
   "metadata": {},
   "source": [
    "<font size=\"3\">Let's check first the content of the little example script:</font>"
   ]
  },
  {
   "cell_type": "code",
   "execution_count": null,
   "metadata": {},
   "outputs": [],
   "source": [
    "! cat scripts/cli_args.py"
   ]
  },
  {
   "cell_type": "markdown",
   "metadata": {},
   "source": [
    "<font size=\"3\">Then we run it giving various command-line arguments:</font>"
   ]
  },
  {
   "cell_type": "code",
   "execution_count": null,
   "metadata": {},
   "outputs": [],
   "source": [
    "# modifies file permission flags\n",
    "! chmod u+x scripts/cli_args.py\n",
    "\n",
    "# run it without any command-line argument\n",
    "! ./scripts/cli_args.py\n",
    "\n",
    "# run it with one command-line argument\n",
    "! ./scripts/cli_args.py --test1\n",
    "\n",
    "# run it with multiple command-line arguments\n",
    "! ./scripts/cli_args.py --test1 --test2 --test3"
   ]
  },
  {
   "cell_type": "markdown",
   "metadata": {},
   "source": [
    "<font size=\"3\">\n",
    "    <b>A more convenient option to handle (define and check) command-line arguments is the module <a href=\"https://docs.python.org/3/library/argparse.html\"><i>argparse</i></a></b>.<br><br> With <i>argparse</i> you can easily define expected mandatory or optional command-line arguments for your scripts with built-in checking of the user input. You can even define nice description and help texts for your parameters to help others to use your scripts later independently.\n",
    "</font>"
   ]
  },
  {
   "cell_type": "code",
   "execution_count": null,
   "metadata": {},
   "outputs": [],
   "source": [
    "# modifies file permission flags\n",
    "! chmod u+x scripts/argparse_example.py\n",
    "\n",
    "# list file content\n",
    "! cat scripts/argparse_example.py"
   ]
  },
  {
   "cell_type": "markdown",
   "metadata": {},
   "source": [
    "<font size=\"3\">\n",
    "    <b>If we now attempt to run the script without command-line arguments, we get an error and argparse gives us a hint what we have done wrong:</b>\n",
    "            </font>"
   ]
  },
  {
   "cell_type": "code",
   "execution_count": null,
   "metadata": {},
   "outputs": [],
   "source": [
    "! ./scripts/argparse_example.py"
   ]
  },
  {
   "cell_type": "markdown",
   "metadata": {},
   "source": [
    "<font size=\"3\">\n",
    "    <b>Argparse provides a nice help function when the argument <i>-h</i> is used:</b\n",
    "</font>"
   ]
  },
  {
   "cell_type": "code",
   "execution_count": null,
   "metadata": {},
   "outputs": [],
   "source": [
    "! ./scripts/argparse_example.py -h"
   ]
  },
  {
   "cell_type": "code",
   "execution_count": null,
   "metadata": {},
   "outputs": [],
   "source": [
    "! ./scripts/argparse_example.py 1 2 3 --sum"
   ]
  },
  {
   "cell_type": "markdown",
   "metadata": {},
   "source": [
    "<font size=\"3\"><div class=\"alert alert-warning\"><b>Exercise 7:</b> Write your own script evaluating command-line arguments and run it on the command-line yourself. Either simply use the builtin <i>os.argv</i> variable or use the <i>argparse</i> module if you feel already comfortable enough.<br><br>\n",
    "<b>Simply create a new Python script locally and upload it here.</b>\n",
    "</div>\n",
    "    \n",
    "<b>Try to run it yourself here:</b></font>"
   ]
  },
  {
   "cell_type": "code",
   "execution_count": null,
   "metadata": {},
   "outputs": [],
   "source": [
    "# replace \"your_script\" with your filename, may also change the file path\n",
    "! chmod u+x scripts/your_script.py\n",
    "! ./scripts/your_script.py"
   ]
  },
  {
   "cell_type": "markdown",
   "metadata": {
    "jp-MarkdownHeadingCollapsed": true,
    "tags": []
   },
   "source": [
    "<!--## Usage of Python in Ecology\n",
    "\n",
    "<br>\n",
    "<font size=\"3\">\n",
    "Python offers a variety of possible applications in the field of ecology, even dedicated libraries with data analysis and plotting functionality especially for ecology: <br>\n",
    "<ul>\n",
    "    <li><a href=\"https://ecopy.readthedocs.io/en/latest/\">EcoPy</a>:<br>EcoPy contains numerous numerical and statistical techniques for working with and analyzing multivariate data. Although designed with ecologists in mind, many of the functions and features are widely applicable.</li><br>\n",
    "    <li><a href=\"https://github.com/datacarpentry/python-ecology-lesson\">Data Carpentry Lessons with Ecological Data</a>:<br>Course materials of a Python workshop especially for Ecologists</li><br>\n",
    "    <li><a href=\"https://towardsdatascience.com/creating-the-ecology-classic-kite-diagram-in-python-46989e1310ad\">Creating the classic Kite diagram in Python</a><br>\n",
    "</ul>\n",
    "</font>-->"
   ]
  },
  {
   "cell_type": "markdown",
   "metadata": {},
   "source": [
    "---"
   ]
  },
  {
   "cell_type": "markdown",
   "metadata": {
    "jupyter": {
     "source_hidden": true
    },
    "tags": []
   },
   "source": [
    "#### Example Solution Ex. 6.1:"
   ]
  },
  {
   "cell_type": "code",
   "execution_count": null,
   "metadata": {
    "jupyter": {
     "source_hidden": true
    },
    "tags": []
   },
   "outputs": [],
   "source": [
    "import matplotlib.pyplot as plt\n",
    "import numpy as np\n",
    "\n",
    "# creates an array with 100 values between -2 and 3 \n",
    "x = np.linspace(-2,3,100)\n",
    "y = 3 * x + 2\n",
    "# creates an array with 100 elements filled with 1\n",
    "y2 = np.full(100, 1)\n",
    "\n",
    "fig, ax = plt.subplots(1,1)\n",
    "ax.plot(x, y, color=\"black\")\n",
    "ax.plot(x, y2, color=\"red\", linestyle=\"--\")\n",
    "plt.show()"
   ]
  },
  {
   "cell_type": "markdown",
   "metadata": {
    "jupyter": {
     "source_hidden": true
    },
    "tags": []
   },
   "source": [
    "#### Example Solution Ex. 6.2"
   ]
  },
  {
   "cell_type": "code",
   "execution_count": null,
   "metadata": {
    "collapsed": true,
    "jupyter": {
     "outputs_hidden": true,
     "source_hidden": true
    },
    "tags": []
   },
   "outputs": [
    {
     "name": "stdout",
     "output_type": "stream",
     "text": [
      "              temp        count\n",
      "count  1482.000000  1482.000000\n",
      "mean     24.612173   311.000000\n",
      "std       4.979788   174.792339\n",
      "min      12.300000    14.000000\n",
      "25%      21.320000   184.000000\n",
      "50%      24.600000   272.000000\n",
      "75%      27.880000   398.750000\n",
      "max      38.540000   873.000000\n"
     ]
    }
   ],
   "source": [
    "import matplotlib.pyplot as plt\n",
    "import pandas as pd\n",
    "\n",
    "# Load data set and describe it\n",
    "bike_data = pd.read_csv(\"data/bike.csv\")\n",
    "print(bike_data.describe())\n",
    "\n"
   ]
  },
  {
   "cell_type": "code",
   "execution_count": null,
   "metadata": {
    "collapsed": true,
    "jupyter": {
     "outputs_hidden": true,
     "source_hidden": true
    },
    "tags": []
   },
   "outputs": [
    {
     "data": {
      "image/png": "[encoded data removed]",
      "text/plain": [
       "<Figure size 1000x700 with 1 Axes>"
      ]
     },
     "metadata": {},
     "output_type": "display_data"
    }
   ],
   "source": [
    "# plot the data as a scatter plot\n",
    "width = 10\n",
    "height = 7\n",
    "dpi = 100\n",
    "fig = plt.figure(figsize=(width, height), dpi=dpi)\n",
    "ax = fig.add_subplot()\n",
    "ax.scatter(bike_data[\"temp\"],  bike_data[\"count\"], )\n",
    "ax.grid(which=\"both\", color=\"gray\", linestyle=\":\")\n",
    "ax.set_title(\"bike rentals versus temperature\"); \n",
    "ax.set_xlabel('temperature [' + r'$^\\circ$' + 'C]');\n",
    "ax.set_ylabel('rental count per hour');\n",
    "plt.show()"
   ]
  },
  {
   "cell_type": "code",
   "execution_count": null,
   "metadata": {
    "collapsed": true,
    "jupyter": {
     "outputs_hidden": true,
     "source_hidden": true
    },
    "tags": []
   },
   "outputs": [
    {
     "name": "stdout",
     "output_type": "stream",
     "text": [
      "              date      time\n",
      "count         1482      1482\n",
      "unique          64        24\n",
      "top     2011-04-21  17:00:00\n",
      "freq            24        64\n"
     ]
    }
   ],
   "source": [
    "# Load second part of the data set\n",
    "bike_data2 = pd.read_csv(\"data/bike2.csv\")\n",
    "print(bike_data2.describe())\n",
    "\n",
    "# add date as a new column to bike data\n",
    "bike_data[\"date\"] = bike_data2[\"date\"]\n",
    "\n",
    "# choose the subset for all rows on day 2011-01-20\n",
    "bike_data_subset = bike_data[bike_data[\"date\"] == \"2011-01-20\"]"
   ]
  },
  {
   "cell_type": "code",
   "execution_count": null,
   "metadata": {
    "collapsed": true,
    "jupyter": {
     "outputs_hidden": true,
     "source_hidden": true
    },
    "tags": []
   },
   "outputs": [
    {
     "data": {
      "image/png": "[encoded data removed]",
      "text/plain": [
       "<Figure size 1000x700 with 1 Axes>"
      ]
     },
     "metadata": {},
     "output_type": "display_data"
    }
   ],
   "source": [
    "width = 10\n",
    "height = 7\n",
    "dpi = 100\n",
    "fig = plt.figure(figsize=(width, height), dpi=dpi)\n",
    "ax = fig.add_subplot()\n",
    "ax.scatter(bike_data[\"temp\"], bike_data[\"count\"])\n",
    "ax.scatter(bike_data_subset[\"temp\"], bike_data_subset[\"count\"], color=\"red\")\n",
    "ax.set_title(\"bike rental\")\n",
    "ax.set_xlabel(\"temp\")\n",
    "ax.set_ylabel(\"counts per hour\")\n",
    "plt.show()"
   ]
  }
 ],
 "metadata": {
  "kernelspec": {
   "display_name": "Python 3",
   "language": "python",
   "name": "python3"
  },
  "language_info": {
   "codemirror_mode": {
    "name": "ipython",
    "version": 3
   },
   "file_extension": ".py",
   "mimetype": "text/x-python",
   "name": "python",
   "nbconvert_exporter": "python",
   "pygments_lexer": "ipython3",
   "version": "3.9.2"
  },
  "varInspector": {
   "cols": {
    "lenName": 16,
    "lenType": 16,
    "lenVar": 40
   },
   "kernels_config": {
    "python": {
     "delete_cmd_postfix": "",
     "delete_cmd_prefix": "del ",
     "library": "var_list.py",
     "varRefreshCmd": "print(var_dic_list())"
    },
    "r": {
     "delete_cmd_postfix": ") ",
     "delete_cmd_prefix": "rm(",
     "library": "var_list.r",
     "varRefreshCmd": "cat(var_dic_list()) "
    }
   },
   "types_to_exclude": [
    "module",
    "function",
    "builtin_function_or_method",
    "instance",
    "_Feature"
   ],
   "window_display": false
  }
 },
 "nbformat": 4,
 "nbformat_minor": 4
}
