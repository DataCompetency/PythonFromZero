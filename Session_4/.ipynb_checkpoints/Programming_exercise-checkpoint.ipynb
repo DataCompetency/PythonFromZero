{
 "cells": [
  {
   "cell_type": "markdown",
   "id": "c6276472-1ac3-43ba-a5f5-89cf2b95880e",
   "metadata": {},
   "source": [
    "# Exercise Programming in Python\n",
    "\n",
    "After we've learned about data types, variables, lists and other container classes, functions, control flow and loops, we have the toolset available to write larger Python programs that can do meaningful stuff.\n",
    "\n",
    "To exercise programming, we will now develop a version of Black Jack in Python (this suggestion comes from ChatGPT).\n",
    "\n",
    "<img src=\"img/bender_blackjack.jpg\" width=\"400\"/>"
   ]
  },
  {
   "cell_type": "markdown",
   "id": "089f04b2-dcc3-4af1-b902-afe8d75ffce4",
   "metadata": {},
   "source": [
    "## Task\n",
    "\n",
    "1. Define the deck of cards. You can do this with a list or a dictionary.\n",
    "2. Shuffle the deck of cards.\n",
    "3. Define the player's hand and the dealer's hand. You can use lists for this.\n",
    "4. Deal the first two cards to the player and the first one to the dealer.\n",
    "5. Allow the player to hit or stand (draw more cards or keep their current hand).\n",
    "6. If the player chooses to hit, deal another card to the player.\n",
    "7. If the player chooses to stand, it's the dealer's turn. The dealer must draw cards until their hand is worth at least 17.\n",
    "8. Determine the winner based on who has the higher hand without exceeding 21.\n",
    "\n",
    "To implement this task, you will need to use variables, lists, dictionaries, functions, for loops, while loops, control flow statements, and classes. For example, use a function to shuffle the deck of cards and a for loop to deal cards to the player and the dealer. You can use while loops to allow the player and the dealer to draw more cards until they reach a certain threshold. You can also use classes to represent cards, the deck of cards, and the player's and dealer's hands.\n",
    "\n",
    "(We haven't really dealt with custom classes, but we can still get a working game with what we know)"
   ]
  },
  {
   "cell_type": "markdown",
   "id": "0beadc13-6e6d-4cce-a47a-f85e3da5484e",
   "metadata": {},
   "source": [
    "## How to?\n",
    "\n",
    "In programming, there are most of the time several ways to achieve a task! Sometimes, certain ways are better in terms of runtime, memory consumption, readability, etc. But we should not worry too much about this as beginners. If the code works correctly, that is good, and we can take care of optimizing it afterwards if we want to.\n",
    "\n",
    "<img src=\"img/stupid_but_it_works.jpg\" width=\"400\"/>\n",
    "\n",
    "A general advice, from personal experience, is to divide (programming) tasks into many smaller steps that seem more manageable. A first division is already given to us above: The overall task is to write a black jack game. This task is then already divided into 8 smaller steps, sometimes even with hints on how to achieve this. We can now go through the 8 sub-tasks and try to solve them.\n",
    "\n",
    "If you have a concrete task like step 1, it can also help to think about the problem backwards, starting with the desired outcome. Determine what you _want to have_ after the task is done, and then think about what you _immediately need_ to get it. Then, think about what you would need to have to get the preriquisites for the desired outcome, and how to get that. Continue until you know where to start. This quickly gets easier and faster with a bit of practice.\n",
    "\n",
    "The outline below is _one_ way of doing the tasks, but feel free to try different approaches if you have other ideas!"
   ]
  },
  {
   "cell_type": "markdown",
   "id": "79f1b41b-45ab-4684-9e97-bb67a4d1c773",
   "metadata": {},
   "source": [
    "## 1. Define the deck of cards. You can do this with a list or a dictionary.\n",
    "\n",
    "Say we want to have our card deck represented as a `list`. We need a [french card deck](https://en.wikipedia.org/wiki/French-suited_playing_cards) to play Black Jack.\n",
    "\n",
    "So we need cards of\n",
    "\n",
    "- four colors (hearts, tiles, clubs, spades)\n",
    "- one ace, king, queen, jack and the numbers 2-10 for each color\n",
    "\n",
    "Each card also has a _value_ in Black Jack. We could store that directly with each card. The number cards have the value of the number (2 is worth 2 points, 3 is 3 and so on). Images (king, queen, jack) are worth 10. Aces are a bit tricky, we just fix the value on 11 to keep things simpler here.\n",
    "\n",
    "How could we _represent_ a single card? For our purposes, maybe a `tuple` can do the trick, where the first element is the card color, the second is the card image (king, queen, 2, 3, ...), and the third is the card value in the game.\n",
    "\n",
    "```language=python\n",
    "example_card = (\"spades\", \"ace\", 11) # this is what a single card should look like\n",
    "```\n",
    "\n",
    "Alright, so now we know that we want a `list` of `tuples` where each tuple represents a single card. We can hardcode this (have fun writing 52 cards) or use e.g. loops and if-else statements to _generate_ the list"
   ]
  },
  {
   "cell_type": "code",
   "execution_count": null,
   "id": "9e08d923-6f19-45d0-bfb3-adde86e8aef1",
   "metadata": {},
   "outputs": [],
   "source": [
    "card_deck = [] # this is where the cards should be stored after this cell was executed\n",
    "\n",
    "for color in [\"hearts\", \"tiles\", \"clubs\", \"spades\"]:\n",
    "    for image in [\"ace\", \"king\", \"queen\", \"jack\", \"10\", \"9\", \"8\", \"7\", \"6\", \"5\", \"4\", \"3\", \"2\"]:\n",
    "        # determine the card value and create the card and store it in card_deck\n",
    "        # YOUR CODE HERE"
   ]
  },
  {
   "cell_type": "markdown",
   "id": "fd04f480-c455-412b-ae0d-6c1c4b7b151b",
   "metadata": {},
   "source": [
    "You can check your code by just running the cell below! It will run a check on your `card_deck` variable and tell you if it is correct or what is wrong. Note that you need to adjust the `card_deck` variable name if you have changed it above (and also adjust it throughout the rest of the notebook, so better just leave it as is!)"
   ]
  },
  {
   "cell_type": "code",
   "execution_count": null,
   "id": "4534d42d-eaf1-47da-b847-80186da5ca15",
   "metadata": {},
   "outputs": [],
   "source": [
    "import unittest as test\n",
    "test.check_task_1(card_deck)"
   ]
  },
  {
   "cell_type": "markdown",
   "id": "15f2dca6-6a53-42d2-81c8-0fe04bcd2026",
   "metadata": {},
   "source": [
    "## 2. Shuffle the deck of cards\n",
    "\n",
    "There are often situations in programming, where you can (and should!) rely on work of others. Writing a function from scratch to shuffle a list, and doing it _correctly_, is very hard! Luckily, for many such things, libraries exist (especially in Python!)\n",
    "\n",
    "So here we are simply using a library called `random` that contains a function called ``shuffle`, that will do exactly what we need!\n",
    "\n",
    "How do we know that? Personally, when I encounter such a problem that I cannot (or do not want to) solve on my own, I simply use a search engine. Often, one quickly finds exactly what is needed. Here you also see that you often have several different options to achieve the task. We decide to use `random.shuffle()` now.\n",
    "\n",
    "<img src=\"img/duckduckgo_shuffle.png\" width=\"800\"/>"
   ]
  },
  {
   "cell_type": "code",
   "execution_count": null,
   "id": "0d6c826d-3020-48c9-9dd9-62ca5a343555",
   "metadata": {},
   "outputs": [],
   "source": [
    "# EXECUTE THIS CELL -- no need to write own code :)\n",
    "\n",
    "import random\n",
    "random.shuffle(card_deck)\n",
    "print(\"Shuffled cards:\", card_deck) # verify that it worked\n",
    "random.shuffle(card_deck)           # shuffle again, we don't want to cheat, right?"
   ]
  },
  {
   "cell_type": "markdown",
   "id": "498a5e9d-e842-4af4-b5f5-f824eca2423b",
   "metadata": {},
   "source": [
    "## 3. Define the player's hand and the dealer's hand. You can use lists for this.\n",
    "\n",
    "This task pretty much gives the solution away. Define two epmty lists, one for the player's hand, one for the dealer's hand. You will draw the first cards in the next step!"
   ]
  },
  {
   "cell_type": "code",
   "execution_count": null,
   "id": "4a43f4e1-b6e0-45fd-b1f9-1e6abeccd3f2",
   "metadata": {},
   "outputs": [],
   "source": [
    "player_hand = # YOUR CODE HERE\n",
    "dealer_hand = # YOUR CODE HERE"
   ]
  },
  {
   "cell_type": "markdown",
   "id": "69e8d190-279d-434d-b37a-15d1202ae1c1",
   "metadata": {},
   "source": [
    "Again, run the cell below to check your code!"
   ]
  },
  {
   "cell_type": "code",
   "execution_count": null,
   "id": "015fe2e1-ba41-4cd0-9f7a-96e9136c828f",
   "metadata": {},
   "outputs": [],
   "source": [
    "import unittest as test\n",
    "test.check_task_3(player_hand, dealer_hand)"
   ]
  },
  {
   "cell_type": "markdown",
   "id": "7fb9dd7d-6f6c-47b5-b16e-f1c7a95621a4",
   "metadata": {},
   "source": [
    "## 4. Deal the first two cards to the player and the first one to the dealer.\n",
    "\n",
    "To start the game, the player recieves two cards and the dealer recieves one card. Since our `card_deck` by now is shuffled, we can just _draw cards from the top_. We know about a built-in function from `list`s in Python to _remove a single element from the list_. So that's what we need to do, remove a card from the `card_deck` and put it in the `player_hand`, remove a second card from the card deck and put it in the player's hand, and then remove another card from the card deck and put it in the dealer's hand."
   ]
  },
  {
   "cell_type": "code",
   "execution_count": null,
   "id": "b67ea4fa-a01e-4e8b-8394-d1b0cd636b8b",
   "metadata": {},
   "outputs": [],
   "source": [
    "# YOUR CODE HERE"
   ]
  },
  {
   "cell_type": "markdown",
   "id": "e7331da7-7582-44e1-a954-4b156d091c4b",
   "metadata": {},
   "source": [
    "Check if you have done it correctly below. \n",
    "\n",
    "Note: If you at any point have the feeling that you messed up beyond repair, you can simply restart the Python instance behind this notebook by selecting `Kernel` --> `Restart Kernel and Clear all Outputs` in the top navigation bar of this window. Then rerun all cells up to the point where you are stuck. This will give you a cleaner environment."
   ]
  },
  {
   "cell_type": "code",
   "execution_count": null,
   "id": "9b752a6f-5fc0-4a48-b96d-a3416a9f08b1",
   "metadata": {},
   "outputs": [],
   "source": [
    "import unittest as test\n",
    "test.check_task_4(player_hand, dealer_hand, card_deck)"
   ]
  },
  {
   "cell_type": "markdown",
   "id": "3421a3ef-ab03-4e9b-ae99-4ee232a96478",
   "metadata": {},
   "source": [
    "## 5. Remaining Tasks\n",
    "\n",
    "Remember the remaining task list:\n",
    "\n",
    "5. Allow the player to hit or stand (draw more cards or keep their current hand).\n",
    "6. If the player chooses to hit, deal another card to the player.\n",
    "7. If the player chooses to stand, it's the dealer's turn. The dealer must draw cards until their hand is worth at least 17.\n",
    "8. Determine the winner based on who has the higher hand without exceeding 21.\n",
    "\n",
    "If the player chooses \"hit\", they get a new card and can choose again. We can not determine in advance, how many times the player will \"hit\". Thus, we need to figure out some way to _repeatedly_ ask the player to hit or stand, and only _stop asking if_ they choose \"stand\". Also, we would need to stop if the player was unlucky and got more than 21 points on their hand.\n",
    "\n",
    "Similarly, we then need to draw cards for the dealer until their hand has at least 17 points. Since the card deck is shuffled, we cannot know in advance, how many cards we have to draw here as well. So we again need a way to _draw as long as the dealer's hand is below 17 points_. You might have guessed that certain types of loops are very well suited to repeat stuff until some _condition_ is met.\n",
    "\n",
    "For both hands, we also need to check the sum of card values all the time. Although solvable in a relatively simple command, one could think about putting this into a _function_ that can be _reused_ whenever needed, with either the player's hand or the dealer's hand. Let's do this first!"
   ]
  },
  {
   "cell_type": "markdown",
   "id": "d2158168-5a58-414e-9bbe-0a20fc30c6f9",
   "metadata": {},
   "source": [
    "### Task 5.1: Create a function that get's a _list of cards_ and _returns_ the sum of card values!"
   ]
  },
  {
   "cell_type": "code",
   "execution_count": null,
   "id": "220cb549-14d3-40ab-aef3-2c1848a34014",
   "metadata": {},
   "outputs": [],
   "source": [
    "def hand_value(list_of_cards):\n",
    "    # YOUR CODE HERE"
   ]
  },
  {
   "cell_type": "markdown",
   "id": "a9bae19a-1a4a-4985-985e-eab9f4235000",
   "metadata": {},
   "source": [
    "Again, check your Function by running the cell below!"
   ]
  },
  {
   "cell_type": "code",
   "execution_count": null,
   "id": "2412d4b7-0ef6-41cb-956b-6769bcaa67d8",
   "metadata": {},
   "outputs": [],
   "source": [
    "import unittest as test\n",
    "test.check_task_5_1(player_hand, hand_value(player_hand))\n",
    "test.check_task_5_1(dealer_hand, hand_value(dealer_hand))\n",
    "test.check_task_5_1(card_deck, hand_value(card_deck)) # the card_deck is also just a list of cards, so the value can be computed as well!"
   ]
  },
  {
   "cell_type": "markdown",
   "id": "a15e25c9-f40f-489e-8be8-85e247f2d373",
   "metadata": {},
   "source": [
    "### Task 5.2: Write the actual game loops!\n",
    "\n",
    "Our preparations are done! We have a card deck, we have a player's hand and a dealer's hand and the initial cards are drawn. We also have a function to quickly calculate the value of any hand.\n",
    "\n",
    "The game now works as follows: \n",
    "* The player can decide to \"hit\" (get another card) or \"stand\" (end their turn). In case of hit, the player can decide again to \"hit\" or \"stand\", and so on.\n",
    "* If the player's hand's value is _greater than 21_, the player loses.\n",
    "* If the player decides to \"stand\", it's the dealer's turn.\n",
    "* The dealer now has to draw cards until their hand has _at least value 17_.\n",
    "* The dealer now has to end. If their hand's value exceeds 21, the dealer has lost.\n",
    "* If neither the player nor the dealer have more than 21 points on their hands, the one with the higher hand value wins. If both have the same value, it's a draw!\n",
    "\n",
    "You can find an _example loop_ below, where nothing happens but the player (you!) is asked to chose between \"hit\" and \"stand\", and the loop terminates only if you chose \"stand\". You can use this loop as a starting point for the actual game loop!"
   ]
  },
  {
   "cell_type": "code",
   "execution_count": null,
   "id": "5ac106f0-f39c-42af-8e0a-fbb43b0910de",
   "metadata": {},
   "outputs": [],
   "source": [
    "# Do this forever, or until the break keyword is encountered\n",
    "while True:\n",
    "    # The line below will print the message and wait for the user's input.\n",
    "    # The user's input is stored as string in the variable choice\n",
    "    choice = input(\"Hit or stand? [Please enter 'hit' or 'stand' without quotation marks]: \")\n",
    "    \n",
    "    # check if the input was the string 'stand', and if so, stop the loop with break\n",
    "    if choice == 'stand':\n",
    "        print(\"Stopping loop!\")\n",
    "        break\n",
    "    # otherwise, if the input was the string 'hit', print a message (and later draw a new card here)\n",
    "    elif choice == 'hit':\n",
    "        print(\"You decided to hit! I could do something here...\")\n",
    "    \n",
    "    # you could also add an else clause to make sure the input was valid after all, e.g.\n",
    "    else:\n",
    "        print(\"I did not get that, I only understand 'hit' or 'stand'!\")"
   ]
  },
  {
   "cell_type": "markdown",
   "id": "efa80334-36ef-48fb-9b63-556db32ba44e",
   "metadata": {},
   "source": [
    "Below, please program the game now. You can reuse above example loop, e.g. once for the player and once for the dealer. And use if-else clauses to determine who won and who lost."
   ]
  },
  {
   "cell_type": "code",
   "execution_count": null,
   "id": "8a065884-8e92-40b4-82af-a9906dd30c86",
   "metadata": {},
   "outputs": [],
   "source": [
    "# YOUR CODE HERE"
   ]
  },
  {
   "cell_type": "markdown",
   "id": "e4dbb32b-5553-44e0-9921-32968a96fc19",
   "metadata": {},
   "source": [
    "---\n",
    "\n",
    "## Does your game work? Congratulations!\n",
    "\n",
    "With this notebook, we tried to go step by step through a bigger programming task and solve it by dividing the whole task into increasingly small steps, solving those and putting everything back together to make the whole thing work.\n",
    "\n",
    "You should go on now, maybe think of other ways to program a Black Jack game or find other tasks to solve using Python and practice what you've learned in this course and also learn many new things along the way!"
   ]
  },
  {
   "cell_type": "markdown",
   "id": "e8982f85-e22a-4245-a603-bd27ea059629",
   "metadata": {},
   "source": [
    "---\n",
    "\n",
    "Are you really not able to write a correctly working game loop? You can look at the example solution below if you're really stuck, to see one way of solving this."
   ]
  },
  {
   "cell_type": "code",
   "execution_count": null,
   "id": "fb179885-863d-494c-adff-cd01069388bf",
   "metadata": {
    "jupyter": {
     "source_hidden": true
    },
    "tags": []
   },
   "outputs": [],
   "source": [
    "# loop for the player\n",
    "while True:\n",
    "    value = hand_value(player_hand)\n",
    "    print(\"Your hand value is\", value)\n",
    "    if value == 21:\n",
    "        print(\"Very lucky! Your turn ends.\")\n",
    "        break\n",
    "    elif value > 21:\n",
    "        print(\"Bad luck! Your hand value is\", value)\n",
    "        print(\"You lost, sorry!\")\n",
    "        break\n",
    "    \n",
    "    choice = input(\"Hit or stand? [Please enter 'hit' or 'stand' without quotation marks]: \")\n",
    "    \n",
    "    if choice == 'stand':\n",
    "        print(\"Ending your turn!\")\n",
    "        break\n",
    "    elif choice == 'hit':\n",
    "        card = card_deck.pop()\n",
    "        player_hand.append(card)\n",
    "        print(\"You decided to hit! You get a\", card)\n",
    "    else:\n",
    "        print(\"I did not get that, I only understand 'hit' or 'stand'!\")\n",
    "        \n",
    "# loop for the dealer\n",
    "while True:\n",
    "    value = hand_value(dealer_hand)\n",
    "    print(\"The dealer has\", value)\n",
    "    if value < 17:\n",
    "        card = card_deck.pop()\n",
    "        dealer_hand.append(card)\n",
    "        print(\"The dealer draws and gets a\", card)\n",
    "    elif value > 21:\n",
    "        print(\"The dealer loses\")\n",
    "        break\n",
    "    else: # value was 17 or greater, but also not exceeding 21\n",
    "        print(\"The dealer ends their turn\")\n",
    "        break\n",
    "\n",
    "# compare both hands\n",
    "player_value = hand_value(player_hand)\n",
    "dealer_value = hand_value(dealer_hand)\n",
    "if player_value <= 21 and dealer_value <= 21:\n",
    "    if player_value > dealer_value:\n",
    "        print(\"You win!\")\n",
    "    elif player_value < dealer_value:\n",
    "        print(\"Dealer wins!\")\n",
    "    else:\n",
    "        print(\"It's a draw!\")"
   ]
  }
 ],
 "metadata": {
  "kernelspec": {
   "display_name": "Python 3 (ipykernel)",
   "language": "python",
   "name": "python3"
  },
  "language_info": {
   "codemirror_mode": {
    "name": "ipython",
    "version": 3
   },
   "file_extension": ".py",
   "mimetype": "text/x-python",
   "name": "python",
   "nbconvert_exporter": "python",
   "pygments_lexer": "ipython3",
   "version": "3.10.8"
  }
 },
 "nbformat": 4,
 "nbformat_minor": 5
}
