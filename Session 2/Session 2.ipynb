{
 "cells": [
  {
   "cell_type": "markdown",
   "metadata": {},
   "source": [
    "# Python from Zero: The absolute Beginner's course\n",
    "\n",
    "## Session 2 / 4 - 20.02.2023 9:00 - 16:00\n",
    "<br>\n",
    "<font size=\"3\">\n",
    "    <i>by Fabian Wilde, Katharina Hoff, Matthis Ebel & Mario Stanke<br></i><br>\n",
    "<b>Contacts:</b> nenashen66@uni-greifswald.de, matthis.ebel@uni-greifswald.de \n",
    "<br>\n",
    "</font>\n",
    "<br>"
   ]
  },
  {
   "cell_type": "markdown",
   "metadata": {},
   "source": [
    "## 1. Control Flow Structures\n",
    "<br>\n",
    "<font size=\"3\">\n",
    "Control flow structures are the most important tool in any programming language, since they allow for the implementation of a control logic which constitutes the algorithm and together with the data the program itself. The figure below shows an exemplaric flow diagram of a program:\n",
    "</font>\n",
    "<center>\n",
    "<img src=\"img/trump-flowchart.jpg\" width=\"70%\">\n",
    "</center>\n",
    "<font size=\"2\"><i>Source: <a href=\"https://www.liberalforum.org/topic/231679-flow-chart/\">https://www.liberalforum.org/topic/231679-flow-chart/</a></i></font>\n",
    "<br>\n",
    "<br>\n",
    "<font size=\"3\">\n",
    "Beginning from the start (green), a condition is verified at every branch of the flow diagram whose result determines the progress of the program till its end state (red). A flow chart is the representation of a finite state machine. As in all programming languages, <b>there is the if..elif...else-clause in Python to control program flow.</b>\n",
    "</font>\n",
    "<br>\n",
    "<br>\n",
    "\n",
    "### Conditional Execution\n",
    "<br>\n",
    "<font size=\"3\">\n",
    "In Python, the if...elif...else construction allows to implement a distinction of multiple, nested conditions at a time to steer the program flow.<br><br><b>A valid condition is a Python expression e.g. a function call which yields a boolean or truth value (True or False).</b><br><br> In contrast to other popular programming languages where braces {} are used to separate blocks of code (e.g. C(++)), <b>Python uses indentation with spaces or tabs to seperate code blocks</b> (spaces should be preferred, and you cannot mix spaces and tabs).<br><br>\n",
    "    <b>The syntax for the conditionally executed code block is</b><br>\n",
    "    \n",
    "    `if condition:\n",
    "         ...\n",
    "     elif condition2:\n",
    "         ...\n",
    "     elif condition3:\n",
    "         ...\n",
    "     else:\n",
    "         ...`\n",
    "\n",
    "<br>\n",
    "<br><b>Of course, we can also have nested conditionally executed code blocks with multiple indentation levels, like</b><br>\n",
    "\n",
    "    `if a:\n",
    "         if b:\n",
    "             ...\n",
    "         else:\n",
    "             ...\n",
    "     elif c:\n",
    "         ...\n",
    "     elif d:\n",
    "         if e:\n",
    "             ...\n",
    "         elif f:\n",
    "             if g:\n",
    "                 ...\n",
    "             else:\n",
    "                 ...\n",
    "         else:\n",
    "             ...\n",
    "     else:\n",
    "         ...`\n",
    "\n",
    "<br>A condition can serve any function or expression (e.g. a comparison) which yields a boolean (True / False) as result which can be combined with logic operators and / or <b>comparisons.</b><br><br>\n",
    "</font>"
   ]
  },
  {
   "cell_type": "markdown",
   "metadata": {},
   "source": [
    "### Comparisons and Logic Operators\n",
    "\n",
    "<br>\n",
    "<font size=\"3\">\n",
    "    <b>Valid operators for comparisons are</b><br><br>\n",
    "    a == b (equal)<br>\n",
    "    a < b (greater)<br> \n",
    "    a > b (smaller)<br>\n",
    "    a <= b (smaller or equal)<br>\n",
    "    a >= b (greater or equal)<br><br>\n",
    "and multiple conditions can be concatenated using</font> \n",
    "\n",
    "`not` (negation), `and` and/or `or`.\n",
    "\n",
    "<font size=\"3\"><br><br><b>The best practice is to avoid nested and prefer flat structures where possible since the code is hard to read (and to debug) otherwise.</b><br>\n",
    "</font>"
   ]
  },
  {
   "cell_type": "markdown",
   "metadata": {},
   "source": [
    "### Examples for Comparisons (feel free to experiment): "
   ]
  },
  {
   "cell_type": "code",
   "execution_count": null,
   "metadata": {},
   "outputs": [],
   "source": [
    "# Two variables or values can be compared if a comparison is reasonable\n",
    "# e.g. a string cannot be compared to a numerical value because \n",
    "# it's not defined when a string is bigger or smaller in a mathematical sense\n",
    "# The comparisons can be used as conditions in an if..elif...else statement\n",
    "\n",
    "# comparison of numerical values\n",
    "print(\"3 == 2?\")\n",
    "print(3 == 2)\n",
    "\n",
    "print(\"3 > 2?\")\n",
    "print(3 > 2)\n",
    "\n",
    "print(\"3 < 2?\")\n",
    "print(3 < 2)\n",
    "\n",
    "# combination of multiple comparisons\n",
    "print(\"Is 3 > 2 OR 3 < 4?\")\n",
    "print((3 > 2) or (3 < 4))\n",
    "print(\"Is 3 > 2 AND 3 < 4?\")\n",
    "print((3 > 2) and (3 < 4))\n",
    "print(\"Is 5 > 2 AND 5 < 4?\")\n",
    "print((5 > 2) and (5 < 4))\n",
    "\n",
    "# of course you can use as well variables in comparisons\n",
    "var1 = 3.141\n",
    "var2 = 3\n",
    "print(\"var1 > var2?\")\n",
    "print(var1 > var2)"
   ]
  },
  {
   "cell_type": "markdown",
   "metadata": {},
   "source": [
    "### Examples for Conditional Execution (feel free to experiment):\n",
    "\n",
    "#### Example 1:"
   ]
  },
  {
   "cell_type": "code",
   "execution_count": null,
   "metadata": {},
   "outputs": [],
   "source": [
    "x = 3.141\n",
    "# distinction of three cases\n",
    "# IMPORTANT: code block of first matching condition is executed!\n",
    "if x == 3.141:\n",
    "    print(\"Thanks for all the fish.\")\n",
    "elif x >= 0:\n",
    "    print(\"x is positive and greater than zero!\")\n",
    "else:\n",
    "    print(\"x is negative!\")\n",
    "    \n",
    "# concatenation of multiple conditions is also possible\n",
    "if (x > 2) and (x <= 4):\n",
    "    print(\"x is in the interval (2,3].\")"
   ]
  },
  {
   "cell_type": "markdown",
   "metadata": {},
   "source": [
    "#### Example 2:"
   ]
  },
  {
   "cell_type": "code",
   "execution_count": null,
   "metadata": {},
   "outputs": [],
   "source": [
    "to_buy = \"oranges\"\n",
    "fridge_content = [\"milk\", \"salami\", \"butter\", \"marmalade\"]\n",
    "\n",
    "if not (to_buy in fridge_content):\n",
    "    print(\"You should buy \" + to_buy + \" !\")\n",
    "else:\n",
    "    print(\"You still have some \" + to_buy + \" !\")\n",
    "print(\"Best, your fridge\")"
   ]
  },
  {
   "cell_type": "markdown",
   "metadata": {},
   "source": [
    "#### Example 3:"
   ]
  },
  {
   "cell_type": "code",
   "execution_count": null,
   "metadata": {},
   "outputs": [],
   "source": [
    "def get_state_of_water(temperature):\n",
    "    if temperature < 0:\n",
    "        print(\"The water is ice.\")\n",
    "    elif (temperature > 0) and (temperature < 100):\n",
    "        print(\"The water is liquid.\")\n",
    "    elif temperature >= 100:\n",
    "        print(\"The water is boiling.\")\n",
    "\n",
    "get_state_of_water(-10)\n",
    "get_state_of_water(99)\n",
    "get_state_of_water(101)"
   ]
  },
  {
   "cell_type": "markdown",
   "metadata": {},
   "source": [
    "<font size=\"3\"><div class=\"alert alert-warning\"><b>Exercise 1.1:</b><br> Implement a simplified version of the dice game \"Kniffel\". Roll two dices. Output the results for the two dices. If the two random integers are equal, additionally notify the user that he got an \"n-er Pasch\" where n stands for the random integer. Otherwise, also inform the user.<br>\n",
    "    \n",
    "<b>Hint:</b><br> Add the command \"import numpy as np\". Then use the function np.random.randint(1,7) to draw a random integer in the range [1,6].<br> \n",
    "\n",
    "</div>\n",
    "    \n",
    "\n",
    " \n",
    "<b>Try it yourself:</b></font>"
   ]
  },
  {
   "cell_type": "code",
   "execution_count": null,
   "metadata": {},
   "outputs": [],
   "source": [
    "# imports a so-called module with name \"numpy\"\n",
    "import numpy as np\n",
    "# returns a random integer in the given range\n",
    "dice1 = np.random.randint(1,7) # note: 7 is not in the range\n",
    "\n",
    "# YOUR CODE HERE"
   ]
  },
  {
   "cell_type": "markdown",
   "metadata": {},
   "source": [
    "import numpy as np\n",
    "a=np.random.randint(1,7)\n",
    "b=np.random.randint(1,7)\n",
    "print(\"dice 1:\"+str(a))\n",
    "print(\"dice 2:\"+str(b))\n",
    "# check condition\n",
    "if not (a == b):\n",
    "    print(\"Unfortunately nothing. :(\")\n",
    "else:\n",
    "    print(\"You won a \"+str(a)+\"-er Pasch.\")import numpy as np\n",
    "a=np.random.randint(1,7)\n",
    "b=np.random.randint(1,7)\n",
    "print(\"dice 1:\"+str(a))\n",
    "print(\"dice 2:\"+str(b))\n",
    "# check condition\n",
    "if not (a == b):\n",
    "    print(\"Unfortunately nothing. :(\")\n",
    "else:\n",
    "    print(\"You won a \"+str(a)+\"-er Pasch.\")#### Example Solution:"
   ]
  },
  {
   "cell_type": "code",
   "execution_count": null,
   "metadata": {},
   "outputs": [],
   "source": [
    "import numpy as np\n",
    "a=np.random.randint(1,7)\n",
    "b=np.random.randint(1,7)\n",
    "print(\"dice 1:\"+str(a))\n",
    "print(\"dice 2:\"+str(b))\n",
    "# check condition\n",
    "if not (a == b):\n",
    "    print(\"Unfortunately nothing. :(\")\n",
    "else:\n",
    "    print(\"You won a \"+str(a)+\"-er Pasch.\")"
   ]
  },
  {
   "cell_type": "markdown",
   "metadata": {},
   "source": [
    "## 2. Loops\n",
    "<br>\n",
    "<font size=\"3\">\n",
    "Python offers two options to run a code block in a loop:\n",
    "<br>\n",
    "<ul>\n",
    "    <li>The <b>for-loop repeats</b> the enclosed code block <b> (in most simple cases) for a defined number of times.</b><br><br>This type of loop is often (but not always) used when the data set is finite and its size known before its runtime. In general, the for-loop iterates through the already-existing elements of an <a href=\"https://www.pythonlikeyoumeanit.com/Module2_EssentialsOfPython/Iterables.html\"><i>Iterable</i></a> (finite) or <a href=\"https://www.pythonlikeyoumeanit.com/Module2_EssentialsOfPython/Generators_and_Comprehensions.html\"><i>Generator</i></a> (potentially infinite since a new element is generated on demand for each iteration) object. <br><b>An <i>Iterable</i> object can be e.g. a list, tuple or dictionary.</b><br><b>A popular <i>Generator</i> object is e.g. the range generator which will be presented here.</b></li><br>\n",
    "    <li>The <b>while-loop can repeat</b> the enclosed code block <b>indefinitely as long as the condition</b> in the header <b>is not fulfilled.</b> This type of loop is often used e.g. when the program needs to wait for some event indefinitely.</li>\n",
    "</ul>\n",
    "</font>"
   ]
  },
  {
   "cell_type": "markdown",
   "metadata": {},
   "source": [
    "### For-Loops\n",
    "<br>\n",
    "<font size=\"3\">\n",
    "The syntax of a for-loop in Python is as following:<br>\n",
    "\n",
    "<b>for <i>elem</i> in <i>Iterable</i>:</b><br>\n",
    "\n",
    "    indented code block\n",
    "    \n",
    "<br>\n",
    "A very popular <i>Iterable</i> or <i>Generator</i> object is the range generator which yields integers which can be used e.g. as index to run over the elements of an array. The range generator expects <i><b>range(start, stop [, step])</b></i> three arguments to define begin, end (and step size which is optional) for list of integers. The range generates integers from start to (stop - 1).<br>\n",
    "<br>\n",
    "<b>Python has reserved keywords to be used within for-loops: break, continue</b>\n",
    "<br>\n",
    "<ul>\n",
    "    <li>break can be used to end the for-loop prematurely</li>\n",
    "    <li>continue can be used to skip the remaining code block of the current iteration</li>\n",
    "</ul>\n",
    "</font>"
   ]
  },
  {
   "cell_type": "markdown",
   "metadata": {
    "tags": []
   },
   "source": [
    "### Example (feel free to experiment):"
   ]
  },
  {
   "cell_type": "code",
   "execution_count": null,
   "metadata": {
    "scrolled": true
   },
   "outputs": [],
   "source": [
    "#a simple for-loop using the range generator\n",
    "print(\"For-loop 1:\")\n",
    "for i in range(0,10):\n",
    "    print(\"i=\" + str(i))"
   ]
  },
  {
   "cell_type": "code",
   "execution_count": null,
   "metadata": {},
   "outputs": [],
   "source": [
    "#a simple for-loop with a different step size\n",
    "print(\"For-loop 2:\")\n",
    "for i in range(0,10,2):\n",
    "    print(\"i=\" + str(i))"
   ]
  },
  {
   "cell_type": "code",
   "execution_count": null,
   "metadata": {},
   "outputs": [],
   "source": [
    "#nested for-loops (which should be avoided for performance reasons, if possible)\n",
    "print(\"For-loop 3:\")\n",
    "for i in range(0,4):\n",
    "    for j in range(0,4):\n",
    "        print(\"(i,j)=\" + str((i,j)))"
   ]
  },
  {
   "cell_type": "code",
   "execution_count": null,
   "metadata": {},
   "outputs": [],
   "source": [
    "#a for-loop running over the elements of a list\n",
    "print(\"For-loop 4:\")\n",
    "fridge_content = ['milk', 'butter', 'strawberries', 'chicken']\n",
    "for item in fridge_content:\n",
    "    print(\"We still have \" + item + \".\")\n",
    "print(\"Best, your fridge\")"
   ]
  },
  {
   "cell_type": "code",
   "execution_count": null,
   "metadata": {},
   "outputs": [],
   "source": [
    "#a for-loop running over a dictionary\n",
    "print(\"For-loop 5:\")\n",
    "fridge_content2 = {'vegetables' : ['paprika', 'fennel'], 'dairy products' : ['milk', 'butter']}\n",
    "for key in fridge_content2:\n",
    "    print(\"We still have \" + str(fridge_content2[key]) + \" which are \" + key + \".\")\n",
    "\n",
    "for value,key in fridge_content2.items():\n",
    "    print(str(value)+ \" = \" + str(key))\n",
    "    \n",
    "print(\"Best, your fridge\")"
   ]
  },
  {
   "cell_type": "markdown",
   "metadata": {},
   "source": [
    "<font size=\"3\"><div class=\"alert alert-warning\"><b>Exercise 2.1:</b> Implement a for-loop running up to an arbitrary number which outputs the number of the running variable and outputs a message whether the number is odd or even.\n",
    "    \n",
    "<b>Hint:</b> Use the <a href=\"https://en.wikipedia.org/wiki/Modulo_operation\">modulo operator</a> \"%\" giving the remainder of a divison. In particular use x % 2. In this case 2 % 2 yields 0, 1 % 2 yields 1.<br> \n",
    "\n",
    "</div>\n",
    "    \n",
    "\n",
    " \n",
    "<b>Try it yourself:</b></font>"
   ]
  },
  {
   "cell_type": "code",
   "execution_count": null,
   "metadata": {},
   "outputs": [],
   "source": [
    "x = 11\n",
    "if x % 2 == 0:\n",
    "    print(\"x is even.\")\n",
    "else:\n",
    "    print(\"x is odd.\")"
   ]
  },
  {
   "cell_type": "code",
   "execution_count": null,
   "metadata": {},
   "outputs": [],
   "source": [
    "# YOUR CODE HERE"
   ]
  },
  {
   "cell_type": "markdown",
   "metadata": {
    "tags": []
   },
   "source": [
    "#### Example Solution:"
   ]
  },
  {
   "cell_type": "code",
   "execution_count": null,
   "metadata": {},
   "outputs": [],
   "source": [
    "n = 23\n",
    "for i in range(n):\n",
    "    if i % 2 == 0:\n",
    "        print(str(i)+\" is even.\")\n",
    "    else:\n",
    "        print(str(i)+\" is odd.\")"
   ]
  },
  {
   "cell_type": "markdown",
   "metadata": {},
   "source": [
    "<font size=\"3\"><div class=\"alert alert-warning\"><b>Exercise 2.2:</b> Add a function \"sum_list\" to the code below that accepts a list as argument and uses a for loop to compute the sum of all elements from the list.\n",
    "\n",
    " \n",
    "<b>Try it yourself:</b></font>"
   ]
  },
  {
   "cell_type": "code",
   "execution_count": null,
   "metadata": {},
   "outputs": [],
   "source": [
    "### ADD YOUR CODE BELOW\n",
    "\n",
    "\n",
    "### ADD YOUR CODE ABOVE\n",
    "numbers_1 = [2,3,5,21,3,2]\n",
    "numbers_2 = [1.2,35.2,1.8]\n",
    "print(\"The sum of the values in numbers_1 is:\", sum_list(numbers_1))\n",
    "print(\"The sum of the values in numbers_1 is:\", sum_list(numbers_2))"
   ]
  },
  {
   "cell_type": "markdown",
   "metadata": {},
   "source": [
    "#### Example Solution:"
   ]
  },
  {
   "cell_type": "code",
   "execution_count": 4,
   "metadata": {},
   "outputs": [
    {
     "name": "stdout",
     "output_type": "stream",
     "text": [
      "The sum of the values in numbers_1 is: 36\n",
      "The sum of the values in numbers_1 is: 38.2\n"
     ]
    }
   ],
   "source": [
    "def sum_list(numbers):\n",
    "    result = 0\n",
    "    for n in numbers:\n",
    "        result += n\n",
    "    return result\n",
    "\n",
    "numbers_1 = [2,3,5,21,3,2]\n",
    "numbers_2 = [1.2,35.2,1.8]\n",
    "print(\"The sum of the values in numbers_1 is:\", sum_list(numbers_1))\n",
    "print(\"The sum of the values in numbers_1 is:\", sum_list(numbers_2))"
   ]
  },
  {
   "cell_type": "markdown",
   "metadata": {},
   "source": [
    "<font size=\"3\">Think of examples from your life or work where you follow a for loop control structure. Here is my example from my work: Five other colleagues are going to come to my office for a meeting (we are obviously past the pandemic). We all like to drink coffee. I prepare coffee. For i in range 7, I prepare 1 cup of coffee. That makes 6 cups of coffee. (And after the loop, I have a hard time balancing the cups on my way to the office...)</font>"
   ]
  },
  {
   "cell_type": "markdown",
   "metadata": {},
   "source": [
    "### While-Loops\n",
    "<br>\n",
    "<font size=\"3\">\n",
    "While-loops can run indefinitely e.g. to wait for an event. An example for such an event loop would be the main event loop in a software application with graphical user interface where the program waits for e.g. a button to be pressed to then call a certain routine.<br><br>\n",
    "The syntax for a while-loop in Python is as following:<br>\n",
    "    <b>while <i>condition:</i></b><br>\n",
    "    \n",
    "        indented code block\n",
    "        \n",
    "<b>Python has reserved a keyword to be used within while-loops: break</b>\n",
    "<br>\n",
    "<ul>\n",
    "    <li>break can be used to end the while-loop.</li>\n",
    "</ul>\n",
    "</font>\n",
    "\n",
    "### Example 1:"
   ]
  },
  {
   "cell_type": "code",
   "execution_count": null,
   "metadata": {
    "scrolled": true
   },
   "outputs": [],
   "source": [
    "counter = 0\n",
    "# runs the loop as long as the variable counter is smaller than 10\n",
    "while counter < 10:\n",
    "    # print the content of the variable counter\n",
    "    print(counter)\n",
    "    # increment the variable counter by 1\n",
    "    counter += 1"
   ]
  },
  {
   "cell_type": "markdown",
   "metadata": {},
   "source": [
    "### Example 2:"
   ]
  },
  {
   "cell_type": "code",
   "execution_count": null,
   "metadata": {},
   "outputs": [],
   "source": [
    "import numpy as np\n",
    "# infinite loop: header condition is always fulfilled\n",
    "counter = 0\n",
    "while True:\n",
    "    # draws a random integer\n",
    "    random_number = np.random.randint(1,7)\n",
    "    # if the random integer was 3, break the loop execution\n",
    "    if random_number == 3:\n",
    "        break\n",
    "    else:\n",
    "        #if the random number was not 3, increment a counter\n",
    "        counter += 1\n",
    "print(\"While-loop has ended.\")\n",
    "print(\"The 3 was drawn after \" + str(counter) + \" trials.\")"
   ]
  },
  {
   "cell_type": "markdown",
   "metadata": {},
   "source": [
    "### Example 3:"
   ]
  },
  {
   "cell_type": "code",
   "execution_count": null,
   "metadata": {},
   "outputs": [],
   "source": [
    "import time\n",
    "import numpy as np\n",
    "#a simple while-loop generating random numbers till a certain number is hit\n",
    "match = False\n",
    "hit = 42\n",
    "upper = int(1e6) # special notation for int(1.000.000,0)\n",
    "t1 = time.time()\n",
    "\n",
    "print(match)\n",
    "print(not match)\n",
    "\n",
    "# Condition in header of the while-loop never not fullfilled (always True)\n",
    "while not match:\n",
    "    # Compares random number with defined hit\n",
    "    if np.random.randint(0,upper) == hit:\n",
    "        # Interrupts the while-loop\n",
    "        break\n",
    "# Calculates how much time has passed\n",
    "delta_t = time.time() - t1\n",
    "# Outputs result\n",
    "print(str(np.round(delta_t,6))+\" seconds passed till \"+str(hit)+\" was randomly hit out random numbers up to \"+str(upper)+\".\")\n"
   ]
  },
  {
   "cell_type": "markdown",
   "metadata": {},
   "source": [
    "<font size=\"3\"><div class=\"alert alert-warning\"><b>Exercise 2.3:</b> Implement a ticking clock by outputting \"tick\", \"tock\" in an alternating manner. Stop the while loop after 10 iterations.\n",
    "</div>\n",
    "    \n",
    "<b>Try it yourself:</b></font>"
   ]
  },
  {
   "cell_type": "code",
   "execution_count": null,
   "metadata": {},
   "outputs": [],
   "source": []
  },
  {
   "cell_type": "markdown",
   "metadata": {},
   "source": [
    "### Example Solution:"
   ]
  },
  {
   "cell_type": "code",
   "execution_count": 13,
   "metadata": {},
   "outputs": [
    {
     "name": "stdout",
     "output_type": "stream",
     "text": [
      "tock\n",
      "tick\n",
      "tock\n",
      "tick\n",
      "tock\n",
      "tick\n",
      "tock\n",
      "tick\n",
      "tock\n",
      "tick\n"
     ]
    }
   ],
   "source": [
    "import time\n",
    "\n",
    "n_max = 10\n",
    "n=0\n",
    "while True:\n",
    "    if n >= n_max:\n",
    "        break\n",
    "    else:\n",
    "        n += 1 # n = n + 1\n",
    "    if n % 2 == 0:\n",
    "        print(\"tick\")\n",
    "    else:\n",
    "        print(\"tock\")\n",
    "    time.sleep(1)"
   ]
  },
  {
   "cell_type": "markdown",
   "metadata": {
    "tags": []
   },
   "source": [
    "## 3. Addendum: User-defined Functions\n",
    "<br>\n",
    "<font size=\"3\">\n",
    "As your code grows bigger and some parts of the code may repeat in it, you'd need to structure it (since you'd also like to avoid <a href=\"https://en.wikipedia.org/wiki/Spaghetti_code\">spaghetti code</a>. This is code which is hard to follow due to various jumps within the code). The first step for cleaner code is to outsource repeating code snippets in user-defined functions. If some repeats itself for at least two times, it is already worth considering to write a function for that.<br><br>\n",
    "So structuring your code by subdividing it into functions has several advantages, like as<br>\n",
    "<ul>\n",
    "    <li><b>readability:</b> code is easier to follow by encapsulating complex code in a simple function call</li>\n",
    "    <li><b>maintainability:</b> code is easier to maintain, bugs are easier to identify and need only be fixed at one location in your code</li>\n",
    "    <li><b>portability:</b> parts of your code can be reused in other projects more easily</li>\n",
    "</ul>\n",
    "<br>\n",
    "<b>User-defined functions in Python are defined as follows</b><br>\n",
    "<ul>\n",
    "    <li><b>with a fixed number of mandatory arguments:</b><br>\n",
    "        def <i>function_name</i>(<b>arg1, arg2, arg3, ...</b>):<br>\n",
    "    <p style=\"margin-left: 40px\"><font face=\"Courier\">indented code block</font></p>\n",
    "    <p style=\"margin-left: 40px\">return <i>value</i></p>\n",
    "    </li>\n",
    "    <br>\n",
    "    <li><b>with a fixed number of arguments, but some have a default value (and are hence not mandatory):</b><br>\n",
    "        def <i>function_name</i>(<b>arg1, arg2, arg3 = True, arg4 = 1</b>):<br>\n",
    "    <p style=\"margin-left: 40px\"><font face=\"Courier\">indented code block</font></p>\n",
    "    <p style=\"margin-left: 40px\">return <i>value</i></p>\n",
    "    <br>\n",
    "        <b>All arguments with a default value must appear after the arguments with no defaults!</b> <br><br>\n",
    "    </li>\n",
    "    <br>\n",
    "    <li>\n",
    "    <b>with a variable number of arguments:</b><br>\n",
    "        def <i>function_name</i>(<b>*args</b>):<br>\n",
    "    <p style=\"margin-left: 40px\"><font face=\"Courier\">indented code block</font></p>\n",
    "    <p style=\"margin-left: 40px\">return <i>value</i></p>\n",
    "    <br>\n",
    "        <b>The variable name <i>args</i>, a tuple of the function arguments, is used in the function definition.</b> <br><br>\n",
    "        <b>The asterisk (*) unpacks a tuple to positional arguments for a function call.</b><br>\n",
    "        <b>It can be only used within function calls or in assignments.</b>\n",
    "    </li>\n",
    "    <br>\n",
    "    <li>\n",
    "    <b>with a variable number of keyword-arguments:</b><br>\n",
    "        def <i>function_name</i>(<b>**kwargs</b>):<br>\n",
    "    <p style=\"margin-left: 40px\"><font face=\"Courier\">indented code block</font></p>\n",
    "    <p style=\"margin-left: 40px\">return <i>value</i></p>\n",
    "    </li>\n",
    "    <br>\n",
    "            <b>The variable name <i>kwargs</i>, a dict of the keyword arguments of the function, is used in the function definition.</b> <br><br>\n",
    "        <b>The double asterisk (**) unpacks a dict to keyword arguments for a function call.</b><br>\n",
    "        <b>It can be only used within function calls or in assigments.</b>\n",
    "    <br>\n",
    "    <br>\n",
    "    <li>\n",
    "    <b>with variable numer of arguments and variable number of keyword arguments:</b><br>\n",
    "        def <i>function_name</i>(<b>*args **kwargs</b>):<br>\n",
    "    <p style=\"margin-left: 40px\"><font face=\"Courier\">indented code block</font></p>\n",
    "    <p style=\"margin-left: 40px\">return <i>value</i></p>\n",
    "    </li>\n",
    "</ul>\n",
    "<br>\n",
    "    The indented code block <b>has to end</b> in all cases <b>with a <i>return</i> statement</b> where the function does not need to return a value. If left blank, the function returns a <i>NoneType</i> (None) object.\n",
    "\n",
    "</font>\n",
    "   \n",
    "### Examples #1 of functions with fixed number of arguments:"
   ]
  },
  {
   "cell_type": "code",
   "execution_count": null,
   "metadata": {},
   "outputs": [],
   "source": [
    "# an example for a function with a defined number of arguments\n",
    "def foo(a, b, c):\n",
    "    return c * (a + b)\n",
    "\n",
    "print(\"foo(1,2,3)=\"+str(foo(1,2,3)))\n",
    "print(\"foo(2.12,8,123)=\"+str(foo(2.12,8,123)))"
   ]
  },
  {
   "cell_type": "code",
   "execution_count": null,
   "metadata": {},
   "outputs": [],
   "source": [
    "# an example for a function with a defined number of arguments\n",
    "# a function can also have multiple return statements\n",
    "def greetings(name, surname, language):\n",
    "    sentences = {'german' : 'Guten Tag', 'english' : 'Hello', 'portuguese' : 'Bom dìa', 'french' : 'Bonjour', 'russian' : 'Здравствуйте'}\n",
    "    # check if language keyword exists in the keys of the dictionary 'sentences'\n",
    "    if not language in sentences.keys():\n",
    "        print(\"Invalid language given.\")\n",
    "        return\n",
    "    # assemble and print output string\n",
    "    print(sentences[language] + \", \" + name + \" \" + surname)\n",
    "    \n",
    "#call / invoke the function greetings with different parameters\n",
    "greetings(\"Jane\", \"Doe\", \"german\")\n",
    "greetings(\"John\", \"Doe\", \"portuguese\")\n",
    "greetings(\"Pièrre\", \"Fromage\", \"french\")\n",
    "greetings(\"Dima\", \"Durak\", \"russian\")\n",
    "greetings(\"World\", \"\", \"english\")\n",
    "greetings(\"World\", \"\", \"klingon\")"
   ]
  },
  {
   "cell_type": "code",
   "execution_count": null,
   "metadata": {
    "tags": []
   },
   "outputs": [],
   "source": [
    "# using the reserved keyword pass, you can also define function prototypes (empty functions)\n",
    "# this is used e.g. in the definition of abstract classes where the class methods are overloaded (overwritten)\n",
    "def prototype(a, b, c):\n",
    "    pass"
   ]
  },
  {
   "cell_type": "markdown",
   "metadata": {},
   "source": [
    "<font size=\"3\">\n",
    "    Having a look at the class of the object <i>greetings</i>, we in fact obtain\n",
    "</font>"
   ]
  },
  {
   "cell_type": "code",
   "execution_count": null,
   "metadata": {},
   "outputs": [],
   "source": [
    "print(type(greetings))       # print data type or class of object\n",
    "print(callable(greetings))   # check if object is callable, hence if object is a function handle"
   ]
  },
  {
   "cell_type": "markdown",
   "metadata": {},
   "source": [
    "<font size=\"3\">\n",
    "    a function or an object of the class \"function\". <b>The builtin function <i>callable()</i> checks if a variable contains or is a callable object, hence a reference to a function which can be invoked.</b>\n",
    "</font>"
   ]
  },
  {
   "cell_type": "markdown",
   "metadata": {},
   "source": [
    "### Example #2 of functions with fixed number of arguments and default values (keyword arguments):"
   ]
  },
  {
   "cell_type": "code",
   "execution_count": null,
   "metadata": {},
   "outputs": [],
   "source": [
    "# an example for a function with fixed number of arguments with default values\n",
    "def print_location(name, start_res = \"Earth\", language = \"english\"):\n",
    "    \n",
    "    # you can insert a line break in a very long line of code with a backslash\n",
    "    locations_en = ['Greifswald', 'Mecklenburg-Vorpommern', 'Germany', 'Europe', \\\n",
    "                    \"Earth\", \"Milky Way\", \"Alpha Quadrant\", \"Universe X001A\"]\n",
    "    locations_de = ['Greifswald', 'Mecklenburg-Vorpommern', 'Deutschland', 'Europa', \\\n",
    "                    \"Erde\", \"Milchstrasse\", \"Alpha Quadrant\", \"Universum X001A\"]\n",
    "    language_str = {'english':{'locations' : locations_en,\\\n",
    "                    'phrase' : ['Hello', 'You are','in','in','in','in','on','in','in','in']},\\\n",
    "                    'german': {'locations' : locations_de, \\\n",
    "                    'phrase' : ['Hallo', 'Du bist', 'in', 'in', 'in', 'in', 'auf der', 'in der', 'im', 'im']}}\n",
    "    \n",
    "    # gets list with available languages\n",
    "    avail_languages = language_str.keys()\n",
    "    \n",
    "    # throws an error if given language keyword is not included\n",
    "    if not (language in avail_languages):\n",
    "        raise KeyError(\"Invalid language keyword.\")\n",
    "    \n",
    "    # throws an error if given start is not included\n",
    "    if not (start_res in language_str[language]['locations']):\n",
    "        raise ValueError(\"Wrong location resolution level.\")\n",
    "    else:\n",
    "        start_index = language_str[language][\"locations\"].index(start_res)\n",
    "        \n",
    "    # assemble string\n",
    "    out_str = language_str[language]['phrase'][0] + \", \" + name + \"! \\n\"\n",
    "    out_str += language_str[language]['phrase'][1] + \" \"\n",
    "    for i in range(start_index,len(language_str[language][\"locations\"])):\n",
    "        out_str += language_str[language]['phrase'][i+2] + \" \" + language_str[language]['locations'][i] + \" \"\n",
    "    # print string\n",
    "    print(out_str)\n",
    "        \n",
    "print_location(\"Jane Doe\")\n",
    "print_location(\"Jon Doe\", start_res = \"Greifswald\")\n",
    "print_location(\"Pierre Fromage\", start_res = \"Greifswald\", language = \"german\")"
   ]
  },
  {
   "cell_type": "markdown",
   "metadata": {},
   "source": [
    "### Examples #3 of functions with variable number of arguments:"
   ]
  },
  {
   "cell_type": "code",
   "execution_count": null,
   "metadata": {},
   "outputs": [],
   "source": [
    "# an example for a function definition with a variable number of function arguments\n",
    "def calc_sum(*args):\n",
    "    # inside the function, args is a tuple\n",
    "    print(\"type(args) = \"+str(type(args)))\n",
    "    result = 0\n",
    "    for elem in args:\n",
    "        result += elem\n",
    "    return result\n",
    "\n",
    "print(\"calc_sum(*(1, 2, 3)) = \"+str(calc_sum(*(1,2,3))))  # the function call\n",
    "print(\"calc_sum(1, 2, 3) = \"+str(calc_sum(1,2,3)))        # is equivalent to\n",
    "print(\"calc_sum(8, 9, 11, 5) = \"+str(calc_sum(8, 9, 11, 5)))        # a different number of arguments can be used\n",
    "\n",
    "import numpy as np\n",
    "rand_len = np.random.randint(1,10)\n",
    "rand_tuple = tuple(np.random.randint(0,10,(rand_len,)))  # but the argument can be a tuple of arbitrary length\n",
    "print(\"rand_tuple = \"+str(rand_tuple))\n",
    "print(\"calc_sum(*rand_tuple) = \"+str(calc_sum(*rand_tuple)))"
   ]
  },
  {
   "cell_type": "markdown",
   "metadata": {},
   "source": [
    "### Example #4 of functions with variable number of keyword arguments:"
   ]
  },
  {
   "cell_type": "code",
   "execution_count": null,
   "metadata": {},
   "outputs": [],
   "source": [
    "# an example for a function definition with a variable number of keyword arguments\n",
    "def get_molecule_name(**kwargs):\n",
    "    # inside the function, kwargs is a dict\n",
    "    print(\"type(kwargs) = \"+str(type(kwargs)))\n",
    "    \n",
    "    molecules = {'H2O' : 'water', 'C2H5OH' : 'ethanol', 'CH3OH' : 'methanol'}\n",
    "    \n",
    "    # assemble string\n",
    "    out_str = ''\n",
    "    for key in kwargs.keys():\n",
    "        if kwargs[key] == 1:\n",
    "            out_str += key\n",
    "        else:\n",
    "            out_str += key + str(kwargs[key])\n",
    "    \n",
    "    if out_str in molecules.keys():\n",
    "        print(\"The molecule \"+out_str+\" is known as \"+molecules[out_str]+\".\")\n",
    "    else:\n",
    "        print(\"The molecule \"+out_str+\" is unknown.\")\n",
    "\n",
    "get_molecule_name(**{})\n",
    "get_molecule_name(**{'C':2,'H':5,'OH':1})\n",
    "get_molecule_name(C=2, H=5, OH=1)"
   ]
  },
  {
   "cell_type": "markdown",
   "metadata": {},
   "source": [
    "<font size=\"3\"><div class=\"alert alert-warning\"><b>Exercise 3.1:</b> Define a function named <i>compute</i> using a variable number of arguments (args) and a keyword argument named <i>operation</i> expecting one of the following strings: \"add\", \"subtract\", \"multiply\", \"divide\".<br><br> The function should then add/subtract/multiply/divide the numbers given by the preceding arguments. The computation should be performed pairwise e.g. first add <i>argument1 </i> and <i>argument2</i>. Then add to the result <i>argument3</i>. Then add to the result <i>argument4</i> etc... Repeat for all arguments. <br> </div>\n",
    "    \n",
    "<b>Try it yourself:</b></font>"
   ]
  },
  {
   "cell_type": "code",
   "execution_count": null,
   "metadata": {},
   "outputs": [],
   "source": []
  },
  {
   "cell_type": "markdown",
   "metadata": {},
   "source": [
    "### Example Solution:"
   ]
  },
  {
   "cell_type": "code",
   "execution_count": null,
   "metadata": {},
   "outputs": [],
   "source": [
    "def compute(*args, method = \"add\"):\n",
    "    result = args[0]\n",
    "    if method == \"add\":\n",
    "        for i in range(1,len(args)):\n",
    "            result += args[i]\n",
    "    elif method == \"subtract\":\n",
    "        for i in range(1,len(args)):\n",
    "            result -= args[i]\n",
    "    elif method == \"multiply\":\n",
    "        for i in range(1,len(args)):\n",
    "            result *= args[i]\n",
    "    elif method == \"divide\":\n",
    "        for i in range(1,len(args)):\n",
    "            result /= args[i]\n",
    "    else:\n",
    "        print(\"Invalid method.\")\n",
    "        return\n",
    "    return result"
   ]
  },
  {
   "cell_type": "markdown",
   "metadata": {},
   "source": [
    "### An important advantage of encapsulating your code in functions is that the scope (the environment where the variable is valid and accessible) is limited to the code block enclosed by your function definition!\n",
    "\n",
    "<font size=\"3\">\n",
    "<b>The concept of the scope of a variable can be easily demonstrated with the following example:</b>\n",
    "</font>"
   ]
  },
  {
   "cell_type": "code",
   "execution_count": null,
   "metadata": {},
   "outputs": [],
   "source": [
    "var1, var2 = 1, 2\n",
    "\n",
    "def test(var1, var2):\n",
    "    var3 = 1\n",
    "    print(\"var3=\"+str(var3))\n",
    "    return True\n",
    "\n",
    "print(test(var1, var2))\n",
    "print(var3)"
   ]
  }
 ],
 "metadata": {
  "kernelspec": {
   "display_name": "Python 3",
   "language": "python",
   "name": "python3"
  },
  "language_info": {
   "codemirror_mode": {
    "name": "ipython",
    "version": 3
   },
   "file_extension": ".py",
   "mimetype": "text/x-python",
   "name": "python",
   "nbconvert_exporter": "python",
   "pygments_lexer": "ipython3",
   "version": "3.9.2"
  },
  "varInspector": {
   "cols": {
    "lenName": 16,
    "lenType": 16,
    "lenVar": 40
   },
   "kernels_config": {
    "python": {
     "delete_cmd_postfix": "",
     "delete_cmd_prefix": "del ",
     "library": "var_list.py",
     "varRefreshCmd": "print(var_dic_list())"
    },
    "r": {
     "delete_cmd_postfix": ") ",
     "delete_cmd_prefix": "rm(",
     "library": "var_list.r",
     "varRefreshCmd": "cat(var_dic_list()) "
    }
   },
   "types_to_exclude": [
    "module",
    "function",
    "builtin_function_or_method",
    "instance",
    "_Feature"
   ],
   "window_display": false
  }
 },
 "nbformat": 4,
 "nbformat_minor": 4
}
